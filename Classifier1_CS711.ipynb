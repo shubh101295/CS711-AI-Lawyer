{
 "cells": [
  {
   "cell_type": "code",
   "execution_count": 7,
   "metadata": {},
   "outputs": [
    {
     "name": "stdout",
     "output_type": "stream",
     "text": [
      "107998\n"
     ]
    },
    {
     "data": {
      "text/html": [
       "<div>\n",
       "<style scoped>\n",
       "    .dataframe tbody tr th:only-of-type {\n",
       "        vertical-align: middle;\n",
       "    }\n",
       "\n",
       "    .dataframe tbody tr th {\n",
       "        vertical-align: top;\n",
       "    }\n",
       "\n",
       "    .dataframe thead th {\n",
       "        text-align: right;\n",
       "    }\n",
       "</style>\n",
       "<table border=\"1\" class=\"dataframe\">\n",
       "  <thead>\n",
       "    <tr style=\"text-align: right;\">\n",
       "      <th></th>\n",
       "      <th>Unnamed: 0</th>\n",
       "      <th>essay no.</th>\n",
       "      <th>sentence</th>\n",
       "      <th>has_argument</th>\n",
       "      <th>type</th>\n",
       "    </tr>\n",
       "  </thead>\n",
       "  <tbody>\n",
       "    <tr>\n",
       "      <th>0</th>\n",
       "      <td>0</td>\n",
       "      <td>1</td>\n",
       "      <td>Should students be taught to compete or to coo...</td>\n",
       "      <td>False</td>\n",
       "      <td>-</td>\n",
       "    </tr>\n",
       "    <tr>\n",
       "      <th>1</th>\n",
       "      <td>1</td>\n",
       "      <td>1</td>\n",
       "      <td>It is always said that competition can effecti...</td>\n",
       "      <td>False</td>\n",
       "      <td>-</td>\n",
       "    </tr>\n",
       "    <tr>\n",
       "      <th>2</th>\n",
       "      <td>2</td>\n",
       "      <td>1</td>\n",
       "      <td>In order to survive in the competition, compa...</td>\n",
       "      <td>False</td>\n",
       "      <td>-</td>\n",
       "    </tr>\n",
       "    <tr>\n",
       "      <th>3</th>\n",
       "      <td>3</td>\n",
       "      <td>1</td>\n",
       "      <td>However, when we discuss the issue of competi...</td>\n",
       "      <td>False</td>\n",
       "      <td>-</td>\n",
       "    </tr>\n",
       "    <tr>\n",
       "      <th>4</th>\n",
       "      <td>4</td>\n",
       "      <td>1</td>\n",
       "      <td>From this point of view, I firmly believe tha...</td>\n",
       "      <td>True</td>\n",
       "      <td>MajorClaim</td>\n",
       "    </tr>\n",
       "    <tr>\n",
       "      <th>5</th>\n",
       "      <td>5</td>\n",
       "      <td>1</td>\n",
       "      <td>First of all, through cooperation, children ca...</td>\n",
       "      <td>True</td>\n",
       "      <td>Claim</td>\n",
       "    </tr>\n",
       "    <tr>\n",
       "      <th>6</th>\n",
       "      <td>6</td>\n",
       "      <td>1</td>\n",
       "      <td>What we acquired from team work is not only h...</td>\n",
       "      <td>True</td>\n",
       "      <td>Premise</td>\n",
       "    </tr>\n",
       "    <tr>\n",
       "      <th>7</th>\n",
       "      <td>7</td>\n",
       "      <td>1</td>\n",
       "      <td>During the process of cooperation, children c...</td>\n",
       "      <td>True</td>\n",
       "      <td>Premise</td>\n",
       "    </tr>\n",
       "    <tr>\n",
       "      <th>8</th>\n",
       "      <td>8</td>\n",
       "      <td>1</td>\n",
       "      <td>All of these skills help them to get on well w...</td>\n",
       "      <td>True</td>\n",
       "      <td>Premise</td>\n",
       "    </tr>\n",
       "    <tr>\n",
       "      <th>9</th>\n",
       "      <td>9</td>\n",
       "      <td>1</td>\n",
       "      <td>On the other hand, the significance of competi...</td>\n",
       "      <td>True</td>\n",
       "      <td>Premise</td>\n",
       "    </tr>\n",
       "  </tbody>\n",
       "</table>\n",
       "</div>"
      ],
      "text/plain": [
       "   Unnamed: 0  essay no.                                           sentence  \\\n",
       "0           0          1  Should students be taught to compete or to coo...   \n",
       "1           1          1  It is always said that competition can effecti...   \n",
       "2           2          1   In order to survive in the competition, compa...   \n",
       "3           3          1   However, when we discuss the issue of competi...   \n",
       "4           4          1   From this point of view, I firmly believe tha...   \n",
       "5           5          1  First of all, through cooperation, children ca...   \n",
       "6           6          1   What we acquired from team work is not only h...   \n",
       "7           7          1   During the process of cooperation, children c...   \n",
       "8           8          1  All of these skills help them to get on well w...   \n",
       "9           9          1  On the other hand, the significance of competi...   \n",
       "\n",
       "   has_argument        type  \n",
       "0         False           -  \n",
       "1         False           -  \n",
       "2         False           -  \n",
       "3         False           -  \n",
       "4          True  MajorClaim  \n",
       "5          True       Claim  \n",
       "6          True     Premise  \n",
       "7          True     Premise  \n",
       "8          True     Premise  \n",
       "9          True     Premise  "
      ]
     },
     "execution_count": 7,
     "metadata": {},
     "output_type": "execute_result"
    }
   ],
   "source": [
    "import logging\n",
    "import pandas as pd\n",
    "import numpy as np\n",
    "from numpy import random\n",
    "import nltk\n",
    "from sklearn.model_selection import train_test_split\n",
    "from sklearn.feature_extraction.text import CountVectorizer, TfidfVectorizer\n",
    "from sklearn.metrics import accuracy_score, confusion_matrix\n",
    "import matplotlib.pyplot as plt\n",
    "from nltk.corpus import stopwords\n",
    "import re\n",
    "%matplotlib inline\n",
    "\n",
    "df = pd.DataFrame(pd.read_excel('train_data_classifier1.xlsx'))\n",
    "df = df[pd.notnull(df['type'])]\n",
    "print(df['sentence'].apply(lambda x: len(x.split(' '))).sum())\n",
    "df.head(10)"
   ]
  },
  {
   "cell_type": "code",
   "execution_count": 8,
   "metadata": {},
   "outputs": [
    {
     "data": {
      "image/png": "[encoded data removed]",
      "text/plain": [
       "<Figure size 720x288 with 1 Axes>"
      ]
     },
     "metadata": {
      "needs_background": "light"
     },
     "output_type": "display_data"
    }
   ],
   "source": [
    "my_types = ['-','Claim','MajorClaim','Premise']\n",
    "plt.figure(figsize=(10,4))\n",
    "df.type.value_counts().plot(kind='bar');"
   ]
  },
  {
   "cell_type": "code",
   "execution_count": 9,
   "metadata": {},
   "outputs": [],
   "source": [
    "X_train = df.sentence\n",
    "y_train = df.type"
   ]
  },
  {
   "cell_type": "code",
   "execution_count": 10,
   "metadata": {},
   "outputs": [
    {
     "data": {
      "text/html": [
       "<div>\n",
       "<style scoped>\n",
       "    .dataframe tbody tr th:only-of-type {\n",
       "        vertical-align: middle;\n",
       "    }\n",
       "\n",
       "    .dataframe tbody tr th {\n",
       "        vertical-align: top;\n",
       "    }\n",
       "\n",
       "    .dataframe thead th {\n",
       "        text-align: right;\n",
       "    }\n",
       "</style>\n",
       "<table border=\"1\" class=\"dataframe\">\n",
       "  <thead>\n",
       "    <tr style=\"text-align: right;\">\n",
       "      <th></th>\n",
       "      <th>Unnamed: 0</th>\n",
       "      <th>essay no.</th>\n",
       "      <th>sentence</th>\n",
       "      <th>has_argument</th>\n",
       "      <th>type</th>\n",
       "    </tr>\n",
       "  </thead>\n",
       "  <tbody>\n",
       "    <tr>\n",
       "      <th>0</th>\n",
       "      <td>0</td>\n",
       "      <td>1</td>\n",
       "      <td>Should students be taught to compete or to coo...</td>\n",
       "      <td>False</td>\n",
       "      <td>-</td>\n",
       "    </tr>\n",
       "    <tr>\n",
       "      <th>1</th>\n",
       "      <td>1</td>\n",
       "      <td>1</td>\n",
       "      <td>It is always said that competition can effecti...</td>\n",
       "      <td>False</td>\n",
       "      <td>-</td>\n",
       "    </tr>\n",
       "    <tr>\n",
       "      <th>2</th>\n",
       "      <td>2</td>\n",
       "      <td>1</td>\n",
       "      <td>In order to survive in the competition, compa...</td>\n",
       "      <td>False</td>\n",
       "      <td>-</td>\n",
       "    </tr>\n",
       "    <tr>\n",
       "      <th>3</th>\n",
       "      <td>3</td>\n",
       "      <td>1</td>\n",
       "      <td>However, when we discuss the issue of competi...</td>\n",
       "      <td>False</td>\n",
       "      <td>-</td>\n",
       "    </tr>\n",
       "    <tr>\n",
       "      <th>4</th>\n",
       "      <td>4</td>\n",
       "      <td>1</td>\n",
       "      <td>From this point of view, I firmly believe tha...</td>\n",
       "      <td>True</td>\n",
       "      <td>MajorClaim</td>\n",
       "    </tr>\n",
       "  </tbody>\n",
       "</table>\n",
       "</div>"
      ],
      "text/plain": [
       "   Unnamed: 0  essay no.                                           sentence  \\\n",
       "0           0          1  Should students be taught to compete or to coo...   \n",
       "1           1          1  It is always said that competition can effecti...   \n",
       "2           2          1   In order to survive in the competition, compa...   \n",
       "3           3          1   However, when we discuss the issue of competi...   \n",
       "4           4          1   From this point of view, I firmly believe tha...   \n",
       "\n",
       "   has_argument        type  \n",
       "0         False           -  \n",
       "1         False           -  \n",
       "2         False           -  \n",
       "3         False           -  \n",
       "4          True  MajorClaim  "
      ]
     },
     "execution_count": 10,
     "metadata": {},
     "output_type": "execute_result"
    }
   ],
   "source": [
    "df1 = pd.DataFrame(pd.read_excel('train_data_classifier1.xlsx'))\n",
    "df1 = df1[pd.notnull(df1['type'])]\n",
    "X_test = df1.sentence\n",
    "y_test = df1.type\n",
    "df1.head(5)"
   ]
  },
  {
   "cell_type": "code",
   "execution_count": 28,
   "metadata": {},
   "outputs": [
    {
     "name": "stdout",
     "output_type": "stream",
     "text": [
      "accuracy 0.5709734513274336\n",
      "              precision    recall  f1-score   support\n",
      "\n",
      "           -       0.80      0.31      0.45      1296\n",
      "       Claim       0.98      0.04      0.07      1067\n",
      "  MajorClaim       1.00      0.02      0.03       514\n",
      "     Premise       0.54      1.00      0.70      2773\n",
      "\n",
      "    accuracy                           0.57      5650\n",
      "   macro avg       0.83      0.34      0.32      5650\n",
      "weighted avg       0.73      0.57      0.47      5650\n",
      "\n"
     ]
    }
   ],
   "source": [
    "# 1\n",
    "from sklearn.naive_bayes import MultinomialNB\n",
    "from sklearn.pipeline import Pipeline\n",
    "from sklearn.feature_extraction.text import TfidfTransformer\n",
    "\n",
    "nb = Pipeline([('vect', CountVectorizer()),\n",
    "               ('tfidf', TfidfTransformer()),\n",
    "               ('clf', MultinomialNB()),\n",
    "              ])\n",
    "nb.fit(X_train, y_train)\n",
    "\n",
    "from sklearn.metrics import classification_report\n",
    "y_pred = nb.predict(X_test)\n",
    "\n",
    "print('accuracy %s' % accuracy_score(y_pred, y_test))\n",
    "print(classification_report(y_test, y_pred,target_names=my_types))"
   ]
  },
  {
   "cell_type": "code",
   "execution_count": 29,
   "metadata": {},
   "outputs": [
    {
     "name": "stdout",
     "output_type": "stream",
     "text": [
      "accuracy 0.6366371681415929\n",
      "              precision    recall  f1-score   support\n",
      "\n",
      "           -       0.84      0.39      0.53      1296\n",
      "       Claim       0.91      0.09      0.16      1067\n",
      "  MajorClaim       0.84      0.49      0.62       514\n",
      "     Premise       0.59      0.99      0.74      2773\n",
      "\n",
      "    accuracy                           0.64      5650\n",
      "   macro avg       0.80      0.49      0.51      5650\n",
      "weighted avg       0.73      0.64      0.57      5650\n",
      "\n"
     ]
    }
   ],
   "source": [
    "# 2\n",
    "from sklearn.linear_model import SGDClassifier\n",
    "\n",
    "sgd = Pipeline([('vect', CountVectorizer()),\n",
    "                ('tfidf', TfidfTransformer()),\n",
    "                ('clf', SGDClassifier(loss='hinge', penalty='l2',alpha=1e-3, random_state=42, max_iter=5, tol=None)),\n",
    "               ])\n",
    "sgd.fit(X_train, y_train)\n",
    "\n",
    "\n",
    "y_pred = sgd.predict(X_test)\n",
    "\n",
    "print('accuracy %s' % accuracy_score(y_pred, y_test))\n",
    "print(classification_report(y_test, y_pred,target_names=my_types))"
   ]
  },
  {
   "cell_type": "code",
   "execution_count": 30,
   "metadata": {},
   "outputs": [
    {
     "name": "stderr",
     "output_type": "stream",
     "text": [
      "C:\\Users\\Gurbaaz Singh Nandra\\Anaconda3\\lib\\site-packages\\sklearn\\linear_model\\logistic.py:432: FutureWarning: Default solver will be changed to 'lbfgs' in 0.22. Specify a solver to silence this warning.\n",
      "  FutureWarning)\n",
      "C:\\Users\\Gurbaaz Singh Nandra\\Anaconda3\\lib\\site-packages\\sklearn\\linear_model\\logistic.py:469: FutureWarning: Default multi_class will be changed to 'auto' in 0.22. Specify the multi_class option to silence this warning.\n",
      "  \"this warning.\", FutureWarning)\n"
     ]
    },
    {
     "name": "stdout",
     "output_type": "stream",
     "text": [
      "accuracy 0.9985840707964602\n",
      "              precision    recall  f1-score   support\n",
      "\n",
      "           -       1.00      1.00      1.00      1296\n",
      "       Claim       1.00      1.00      1.00      1067\n",
      "  MajorClaim       1.00      1.00      1.00       514\n",
      "     Premise       1.00      1.00      1.00      2773\n",
      "\n",
      "    accuracy                           1.00      5650\n",
      "   macro avg       1.00      1.00      1.00      5650\n",
      "weighted avg       1.00      1.00      1.00      5650\n",
      "\n"
     ]
    }
   ],
   "source": [
    "# 3\n",
    "from sklearn.linear_model import LogisticRegression\n",
    "\n",
    "logreg = Pipeline([('vect', CountVectorizer()),\n",
    "                ('tfidf', TfidfTransformer()),\n",
    "                ('clf', LogisticRegression(n_jobs=1, C=1e5)),\n",
    "               ])\n",
    "logreg.fit(X_train, y_train)\n",
    "\n",
    "\n",
    "y_pred = logreg.predict(X_test)\n",
    "\n",
    "print('accuracy %s' % accuracy_score(y_pred, y_test))\n",
    "print(classification_report(y_test, y_pred,target_names=my_types))"
   ]
  },
  {
   "cell_type": "code",
   "execution_count": 31,
   "metadata": {},
   "outputs": [
    {
     "name": "stdout",
     "output_type": "stream",
     "text": [
      "['Premise'] ['Premise'] ['Premise']\n",
      "['Premise'] ['Premise'] ['-']\n",
      "['Premise'] ['Premise'] ['MajorClaim']\n"
     ]
    }
   ],
   "source": [
    "# sample\n",
    "sample1 = ['I believe that drugs are bad for health']\n",
    "pred1 = nb.predict(sample1)\n",
    "pred2 = sgd.predict(sample1)\n",
    "pred3 = logreg.predict(sample1)\n",
    "print(pred1, pred2, pred3)\n",
    "\n",
    "sample2 = ['Divorce has been long tabooed in India']\n",
    "pred1 = nb.predict(sample2)\n",
    "pred2 = sgd.predict(sample2)\n",
    "pred3 = logreg.predict(sample2)\n",
    "print(pred1, pred2, pred3)\n",
    "\n",
    "sample3 = ['We can conclude that trees are decreasing.']\n",
    "pred1 = nb.predict(sample3)\n",
    "pred2 = sgd.predict(sample3)\n",
    "pred3 = logreg.predict(sample3)\n",
    "print(pred1, pred2, pred3)"
   ]
  },
  {
   "cell_type": "code",
   "execution_count": null,
   "metadata": {},
   "outputs": [],
   "source": []
  },
  {
   "cell_type": "code",
   "execution_count": 39,
   "metadata": {},
   "outputs": [
    {
     "name": "stdout",
     "output_type": "stream",
     "text": [
      "1.5.0\n"
     ]
    }
   ],
   "source": [
    "print(torch.__version__)"
   ]
  },
  {
   "cell_type": "code",
   "execution_count": null,
   "metadata": {},
   "outputs": [],
   "source": []
  }
 ],
 "metadata": {
  "kernelspec": {
   "display_name": "Python 3",
   "language": "python",
   "name": "python3"
  },
  "language_info": {
   "codemirror_mode": {
    "name": "ipython",
    "version": 3
   },
   "file_extension": ".py",
   "mimetype": "text/x-python",
   "name": "python",
   "nbconvert_exporter": "python",
   "pygments_lexer": "ipython3",
   "version": "3.7.3"
  }
 },
 "nbformat": 4,
 "nbformat_minor": 2
}
