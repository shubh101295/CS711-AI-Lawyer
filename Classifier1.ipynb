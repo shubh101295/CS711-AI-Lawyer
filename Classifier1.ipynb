{
 "cells": [
  {
   "cell_type": "code",
   "execution_count": 23,
   "metadata": {},
   "outputs": [
    {
     "data": {
      "text/html": [
       "<div>\n",
       "<style scoped>\n",
       "    .dataframe tbody tr th:only-of-type {\n",
       "        vertical-align: middle;\n",
       "    }\n",
       "\n",
       "    .dataframe tbody tr th {\n",
       "        vertical-align: top;\n",
       "    }\n",
       "\n",
       "    .dataframe thead th {\n",
       "        text-align: right;\n",
       "    }\n",
       "</style>\n",
       "<table border=\"1\" class=\"dataframe\">\n",
       "  <thead>\n",
       "    <tr style=\"text-align: right;\">\n",
       "      <th></th>\n",
       "      <th>Index</th>\n",
       "      <th>Corpus</th>\n",
       "    </tr>\n",
       "  </thead>\n",
       "  <tbody>\n",
       "    <tr>\n",
       "      <th>0</th>\n",
       "      <td>0</td>\n",
       "      <td>Internet Explorer 11 is no longer supported. W...</td>\n",
       "    </tr>\n",
       "    <tr>\n",
       "      <th>1</th>\n",
       "      <td>1</td>\n",
       "      <td>1 U.S. 406 (Dall.)  Johnson v. Hocker  Suprem...</td>\n",
       "    </tr>\n",
       "    <tr>\n",
       "      <th>2</th>\n",
       "      <td>2</td>\n",
       "      <td>1 U.S. 409 (Dall.)  Steele v. Steele  Supreme...</td>\n",
       "    </tr>\n",
       "    <tr>\n",
       "      <th>3</th>\n",
       "      <td>3</td>\n",
       "      <td>1 U.S. 411 (Dall.)  Schlosser v. Lesher  Cour...</td>\n",
       "    </tr>\n",
       "    <tr>\n",
       "      <th>4</th>\n",
       "      <td>4</td>\n",
       "      <td>1 U.S. 415 (Dall.)  Kennedy v. Nedrow, et Ux....</td>\n",
       "    </tr>\n",
       "    <tr>\n",
       "      <th>5</th>\n",
       "      <td>5</td>\n",
       "      <td>1 U.S. 420 (Dall.)  Hamilton, Executor v. Cal...</td>\n",
       "    </tr>\n",
       "    <tr>\n",
       "      <th>6</th>\n",
       "      <td>6</td>\n",
       "      <td>1 U.S. 424 (Dall.)  The Lessee of Thompson et...</td>\n",
       "    </tr>\n",
       "    <tr>\n",
       "      <th>7</th>\n",
       "      <td>7</td>\n",
       "      <td>1 U.S. 428 (Dall.)  D'Utricht v. Melchor  Sup...</td>\n",
       "    </tr>\n",
       "    <tr>\n",
       "      <th>8</th>\n",
       "      <td>8</td>\n",
       "      <td>1 U.S. 430 (Dall.)  Levinz v. Will  Supreme C...</td>\n",
       "    </tr>\n",
       "    <tr>\n",
       "      <th>9</th>\n",
       "      <td>9</td>\n",
       "      <td>1 U.S. 436 (Dall.)  Parker et al. v. Wood  Su...</td>\n",
       "    </tr>\n",
       "  </tbody>\n",
       "</table>\n",
       "</div>"
      ],
      "text/plain": [
       "   Index                                             Corpus\n",
       "0      0  Internet Explorer 11 is no longer supported. W...\n",
       "1      1   1 U.S. 406 (Dall.)  Johnson v. Hocker  Suprem...\n",
       "2      2   1 U.S. 409 (Dall.)  Steele v. Steele  Supreme...\n",
       "3      3   1 U.S. 411 (Dall.)  Schlosser v. Lesher  Cour...\n",
       "4      4   1 U.S. 415 (Dall.)  Kennedy v. Nedrow, et Ux....\n",
       "5      5   1 U.S. 420 (Dall.)  Hamilton, Executor v. Cal...\n",
       "6      6   1 U.S. 424 (Dall.)  The Lessee of Thompson et...\n",
       "7      7   1 U.S. 428 (Dall.)  D'Utricht v. Melchor  Sup...\n",
       "8      8   1 U.S. 430 (Dall.)  Levinz v. Will  Supreme C...\n",
       "9      9   1 U.S. 436 (Dall.)  Parker et al. v. Wood  Su..."
      ]
     },
     "execution_count": 23,
     "metadata": {},
     "output_type": "execute_result"
    }
   ],
   "source": [
    "import logging\n",
    "import pandas as pd\n",
    "import numpy as np\n",
    "from numpy import random\n",
    "import nltk\n",
    "from sklearn.model_selection import train_test_split\n",
    "from sklearn.feature_extraction.text import CountVectorizer, TfidfVectorizer\n",
    "from sklearn.metrics import accuracy_score, confusion_matrix\n",
    "import matplotlib.pyplot as plt\n",
    "import seaborn as sns\n",
    "from nltk.corpus import stopwords\n",
    "import re\n",
    "%matplotlib inline\n",
    "\n",
    "df = pd.read_csv('data.csv')\n",
    "# print(df['Corpus'].apply(lambda x: len(x.split(' '))).sum())\n",
    "df.head(10)"
   ]
  },
  {
   "cell_type": "code",
   "execution_count": 24,
   "metadata": {},
   "outputs": [
    {
     "data": {
      "text/plain": [
       "32125"
      ]
     },
     "execution_count": 24,
     "metadata": {},
     "output_type": "execute_result"
    }
   ],
   "source": [
    "len(df.Corpus)"
   ]
  },
  {
   "cell_type": "code",
   "execution_count": 25,
   "metadata": {},
   "outputs": [
    {
     "name": "stdout",
     "output_type": "stream",
     "text": [
      "107998\n"
     ]
    },
    {
     "data": {
      "text/html": [
       "<div>\n",
       "<style scoped>\n",
       "    .dataframe tbody tr th:only-of-type {\n",
       "        vertical-align: middle;\n",
       "    }\n",
       "\n",
       "    .dataframe tbody tr th {\n",
       "        vertical-align: top;\n",
       "    }\n",
       "\n",
       "    .dataframe thead th {\n",
       "        text-align: right;\n",
       "    }\n",
       "</style>\n",
       "<table border=\"1\" class=\"dataframe\">\n",
       "  <thead>\n",
       "    <tr style=\"text-align: right;\">\n",
       "      <th></th>\n",
       "      <th>Unnamed: 0</th>\n",
       "      <th>essay no.</th>\n",
       "      <th>sentence</th>\n",
       "      <th>has_argument</th>\n",
       "      <th>type</th>\n",
       "    </tr>\n",
       "  </thead>\n",
       "  <tbody>\n",
       "    <tr>\n",
       "      <th>0</th>\n",
       "      <td>0</td>\n",
       "      <td>1</td>\n",
       "      <td>Should students be taught to compete or to coo...</td>\n",
       "      <td>False</td>\n",
       "      <td>-</td>\n",
       "    </tr>\n",
       "    <tr>\n",
       "      <th>1</th>\n",
       "      <td>1</td>\n",
       "      <td>1</td>\n",
       "      <td>It is always said that competition can effecti...</td>\n",
       "      <td>False</td>\n",
       "      <td>-</td>\n",
       "    </tr>\n",
       "    <tr>\n",
       "      <th>2</th>\n",
       "      <td>2</td>\n",
       "      <td>1</td>\n",
       "      <td>In order to survive in the competition, compa...</td>\n",
       "      <td>False</td>\n",
       "      <td>-</td>\n",
       "    </tr>\n",
       "    <tr>\n",
       "      <th>3</th>\n",
       "      <td>3</td>\n",
       "      <td>1</td>\n",
       "      <td>However, when we discuss the issue of competi...</td>\n",
       "      <td>False</td>\n",
       "      <td>-</td>\n",
       "    </tr>\n",
       "    <tr>\n",
       "      <th>4</th>\n",
       "      <td>4</td>\n",
       "      <td>1</td>\n",
       "      <td>From this point of view, I firmly believe tha...</td>\n",
       "      <td>True</td>\n",
       "      <td>MajorClaim</td>\n",
       "    </tr>\n",
       "  </tbody>\n",
       "</table>\n",
       "</div>"
      ],
      "text/plain": [
       "   Unnamed: 0  essay no.                                           sentence  \\\n",
       "0           0          1  Should students be taught to compete or to coo...   \n",
       "1           1          1  It is always said that competition can effecti...   \n",
       "2           2          1   In order to survive in the competition, compa...   \n",
       "3           3          1   However, when we discuss the issue of competi...   \n",
       "4           4          1   From this point of view, I firmly believe tha...   \n",
       "\n",
       "   has_argument        type  \n",
       "0         False           -  \n",
       "1         False           -  \n",
       "2         False           -  \n",
       "3         False           -  \n",
       "4          True  MajorClaim  "
      ]
     },
     "execution_count": 25,
     "metadata": {},
     "output_type": "execute_result"
    }
   ],
   "source": [
    "## Model \n",
    "\n",
    "train_df = pd.DataFrame(pd.read_excel('train_data_classifier1.xlsx'))\n",
    "print(train_df['sentence'].apply(lambda x: len(x.split(' '))).sum())\n",
    "X_train = train_df.sentence\n",
    "y_train = train_df.type\n",
    "train_df.head()"
   ]
  },
  {
   "cell_type": "code",
   "execution_count": 27,
   "metadata": {},
   "outputs": [
    {
     "data": {
      "image/png": "[encoded data removed]",
      "text/plain": [
       "<Figure size 576x288 with 1 Axes>"
      ]
     },
     "metadata": {
      "needs_background": "light"
     },
     "output_type": "display_data"
    }
   ],
   "source": [
    "fig = plt.figure(figsize=(8,4))\n",
    "sns.barplot(x = train_df['type'].unique(), y=train_df['type'].value_counts())\n",
    "plt.show()"
   ]
  },
  {
   "cell_type": "code",
   "execution_count": 28,
   "metadata": {},
   "outputs": [
    {
     "data": {
      "text/html": [
       "<div>\n",
       "<style scoped>\n",
       "    .dataframe tbody tr th:only-of-type {\n",
       "        vertical-align: middle;\n",
       "    }\n",
       "\n",
       "    .dataframe tbody tr th {\n",
       "        vertical-align: top;\n",
       "    }\n",
       "\n",
       "    .dataframe thead th {\n",
       "        text-align: right;\n",
       "    }\n",
       "</style>\n",
       "<table border=\"1\" class=\"dataframe\">\n",
       "  <thead>\n",
       "    <tr style=\"text-align: right;\">\n",
       "      <th></th>\n",
       "      <th>Unnamed: 0</th>\n",
       "      <th>essay no.</th>\n",
       "      <th>sentence</th>\n",
       "      <th>has_argument</th>\n",
       "      <th>type</th>\n",
       "    </tr>\n",
       "  </thead>\n",
       "  <tbody>\n",
       "    <tr>\n",
       "      <th>0</th>\n",
       "      <td>0</td>\n",
       "      <td>4</td>\n",
       "      <td>International tourism is now more common than ...</td>\n",
       "      <td>False</td>\n",
       "      <td>-</td>\n",
       "    </tr>\n",
       "    <tr>\n",
       "      <th>1</th>\n",
       "      <td>1</td>\n",
       "      <td>4</td>\n",
       "      <td>The last 50 years have seen a significant incr...</td>\n",
       "      <td>False</td>\n",
       "      <td>-</td>\n",
       "    </tr>\n",
       "    <tr>\n",
       "      <th>2</th>\n",
       "      <td>2</td>\n",
       "      <td>4</td>\n",
       "      <td>While some might think the tourism bring larg...</td>\n",
       "      <td>True</td>\n",
       "      <td>Claim</td>\n",
       "    </tr>\n",
       "    <tr>\n",
       "      <th>3</th>\n",
       "      <td>3</td>\n",
       "      <td>4</td>\n",
       "      <td>Firstly, it is an undeniable fact that tourist...</td>\n",
       "      <td>True</td>\n",
       "      <td>Premise</td>\n",
       "    </tr>\n",
       "    <tr>\n",
       "      <th>4</th>\n",
       "      <td>4</td>\n",
       "      <td>4</td>\n",
       "      <td>Take Thailand for example, in the Vietnam War...</td>\n",
       "      <td>True</td>\n",
       "      <td>Premise</td>\n",
       "    </tr>\n",
       "  </tbody>\n",
       "</table>\n",
       "</div>"
      ],
      "text/plain": [
       "   Unnamed: 0  essay no.                                           sentence  \\\n",
       "0           0          4  International tourism is now more common than ...   \n",
       "1           1          4  The last 50 years have seen a significant incr...   \n",
       "2           2          4   While some might think the tourism bring larg...   \n",
       "3           3          4  Firstly, it is an undeniable fact that tourist...   \n",
       "4           4          4   Take Thailand for example, in the Vietnam War...   \n",
       "\n",
       "   has_argument     type  \n",
       "0         False        -  \n",
       "1         False        -  \n",
       "2          True    Claim  \n",
       "3          True  Premise  \n",
       "4          True  Premise  "
      ]
     },
     "execution_count": 28,
     "metadata": {},
     "output_type": "execute_result"
    }
   ],
   "source": [
    "test_df = pd.DataFrame(pd.read_excel('test_data_classifier1.xlsx'))\n",
    "test_df = test_df[pd.notnull(test_df['type'])]\n",
    "X_test = test_df.sentence\n",
    "y_test = test_df.type\n",
    "test_df.head()"
   ]
  },
  {
   "cell_type": "code",
   "execution_count": 29,
   "metadata": {},
   "outputs": [
    {
     "data": {
      "image/png": "[encoded data removed]",
      "text/plain": [
       "<Figure size 576x288 with 1 Axes>"
      ]
     },
     "metadata": {
      "needs_background": "light"
     },
     "output_type": "display_data"
    }
   ],
   "source": [
    "fig = plt.figure(figsize=(8,4))\n",
    "sns.barplot(x = test_df['type'].unique(), y=test_df['type'].value_counts())\n",
    "plt.show()"
   ]
  },
  {
   "cell_type": "code",
   "execution_count": 34,
   "metadata": {},
   "outputs": [
    {
     "name": "stdout",
     "output_type": "stream",
     "text": [
      "accuracy 0.5402777777777777\n",
      "              precision    recall  f1-score   support\n",
      "\n",
      "           -       0.73      0.16      0.27       311\n",
      "       Claim       0.00      0.00      0.00       271\n",
      "  MajorClaim       0.00      0.00      0.00       128\n",
      "     Premise       0.53      1.00      0.69       730\n",
      "\n",
      "    accuracy                           0.54      1440\n",
      "   macro avg       0.31      0.29      0.24      1440\n",
      "weighted avg       0.43      0.54      0.41      1440\n",
      "\n"
     ]
    },
    {
     "name": "stderr",
     "output_type": "stream",
     "text": [
      "C:\\Users\\Gurbaaz Singh Nandra\\Anaconda3\\lib\\site-packages\\sklearn\\metrics\\classification.py:1437: UndefinedMetricWarning: Precision and F-score are ill-defined and being set to 0.0 in labels with no predicted samples.\n",
      "  'precision', 'predicted', average, warn_for)\n"
     ]
    }
   ],
   "source": [
    "# Naive Bayes\n",
    "# 1\n",
    "from sklearn.naive_bayes import MultinomialNB\n",
    "from sklearn.pipeline import Pipeline\n",
    "from sklearn.feature_extraction.text import TfidfTransformer\n",
    "\n",
    "nb = Pipeline([('vect', CountVectorizer()),\n",
    "               ('tfidf', TfidfTransformer()),\n",
    "               ('clf', MultinomialNB()),\n",
    "              ])\n",
    "nb = nb.fit(X_train, y_train)\n",
    "\n",
    "from sklearn.metrics import classification_report\n",
    "y_pred = nb.predict(X_test)\n",
    "\n",
    "print('accuracy %s' % accuracy_score(y_pred, y_test))\n",
    "print(classification_report(y_test, y_pred,target_names=my_types))"
   ]
  },
  {
   "cell_type": "code",
   "execution_count": 66,
   "metadata": {},
   "outputs": [
    {
     "name": "stdout",
     "output_type": "stream",
     "text": [
      "accuracy 0.6006944444444444\n",
      "              precision    recall  f1-score   support\n",
      "\n",
      "           -       0.76      0.32      0.45       311\n",
      "       Claim       0.60      0.03      0.06       271\n",
      "  MajorClaim       0.60      0.30      0.40       128\n",
      "     Premise       0.58      0.98      0.73       730\n",
      "\n",
      "    accuracy                           0.60      1440\n",
      "   macro avg       0.64      0.41      0.41      1440\n",
      "weighted avg       0.63      0.60      0.52      1440\n",
      "\n"
     ]
    }
   ],
   "source": [
    "# SGD\n",
    "from sklearn.linear_model import SGDClassifier\n",
    "from sklearn.pipeline import Pipeline\n",
    "from sklearn.feature_extraction.text import TfidfTransformer\n",
    "from sklearn.metrics import classification_report\n",
    "\n",
    "sgd = Pipeline([('vect', CountVectorizer()),\n",
    "                ('tfidf', TfidfTransformer()),\n",
    "                ('clf', SGDClassifier(loss='hinge', penalty='l2',alpha=1e-3, random_state=42, max_iter=100, tol=None)),\n",
    "               ])\n",
    "sgd = sgd.fit(X_train, y_train)\n",
    "\n",
    "\n",
    "y_pred = sgd.predict(X_test)\n",
    "\n",
    "print('accuracy %s' % accuracy_score(y_pred, y_test))\n",
    "print(classification_report(y_test, y_pred,target_names=my_types))"
   ]
  },
  {
   "cell_type": "code",
   "execution_count": 36,
   "metadata": {},
   "outputs": [],
   "source": [
    "# Grid Search\n",
    "from sklearn.model_selection import GridSearchCV\n",
    "parameters = {'vect__ngram_range': [(1, 1), (1, 2)],\n",
    "               'tfidf__use_idf': (True, False),\n",
    "               'clf__alpha': (1e-2, 1e-3),\n",
    "}"
   ]
  },
  {
   "cell_type": "code",
   "execution_count": 37,
   "metadata": {},
   "outputs": [
    {
     "name": "stderr",
     "output_type": "stream",
     "text": [
      "C:\\Users\\Gurbaaz Singh Nandra\\Anaconda3\\lib\\site-packages\\sklearn\\model_selection\\_split.py:1978: FutureWarning: The default value of cv will change from 3 to 5 in version 0.22. Specify it explicitly to silence this warning.\n",
      "  warnings.warn(CV_WARNING, FutureWarning)\n"
     ]
    }
   ],
   "source": [
    "gs_nb = GridSearchCV(nb, parameters, n_jobs=-1)\n",
    "gs_nb = gs_nb.fit(X_train, y_train)"
   ]
  },
  {
   "cell_type": "code",
   "execution_count": 39,
   "metadata": {},
   "outputs": [
    {
     "name": "stdout",
     "output_type": "stream",
     "text": [
      "0.5750442477876107\n",
      "{'clf__alpha': 0.01, 'tfidf__use_idf': False, 'vect__ngram_range': (1, 2)}\n"
     ]
    }
   ],
   "source": [
    "print(gs_nb.best_score_)\n",
    "print(gs_nb.best_params_)"
   ]
  },
  {
   "cell_type": "code",
   "execution_count": 42,
   "metadata": {},
   "outputs": [
    {
     "name": "stderr",
     "output_type": "stream",
     "text": [
      "C:\\Users\\Gurbaaz Singh Nandra\\Anaconda3\\lib\\site-packages\\sklearn\\model_selection\\_split.py:1978: FutureWarning: The default value of cv will change from 3 to 5 in version 0.22. Specify it explicitly to silence this warning.\n",
      "  warnings.warn(CV_WARNING, FutureWarning)\n"
     ]
    },
    {
     "name": "stdout",
     "output_type": "stream",
     "text": [
      "0.571858407079646\n",
      "{'clf__alpha': 0.001, 'tfidf__use_idf': False, 'vect__ngram_range': (1, 2)}\n"
     ]
    }
   ],
   "source": [
    "# Grid Search SVM\n",
    "from sklearn.model_selection import GridSearchCV\n",
    "parameters_svm = {'vect__ngram_range': [(1, 1), (1, 2)],\n",
    "               'tfidf__use_idf': (True, False),\n",
    "               'clf__alpha': (1e-2, 1e-3),\n",
    "}\n",
    "gs_svm = GridSearchCV(sgd, parameters_svm, n_jobs=-1)\n",
    "gs_svm = gs_svm.fit(X_train, y_train)\n",
    "print(gs_svm.best_score_)\n",
    "print(gs_svm.best_params_)"
   ]
  },
  {
   "cell_type": "code",
   "execution_count": 127,
   "metadata": {},
   "outputs": [],
   "source": [
    "## not abenefit in using grid search cv SVM"
   ]
  },
  {
   "cell_type": "code",
   "execution_count": 43,
   "metadata": {},
   "outputs": [],
   "source": [
    "## Cleaning data.csv for ## Argument extraction"
   ]
  },
  {
   "cell_type": "code",
   "execution_count": 44,
   "metadata": {},
   "outputs": [
    {
     "data": {
      "text/plain": [
       "\"Internet Explorer 11 is no longer supported. We recommend using\\n            Google Chrome,\\n            Firefox, or\\n            Microsoft Edge. This was a bill in equity filed by 'His Excellency Edward Telfair, Esq. governor and commander in chief in and over the state of Georgia, in behalf of the said State, complainant;' against Samuel Brailsford, Robert Wm. Powell, and John Hopton, merchants and co-partners, and James Spalding, surviving partner of Kelsall & Spalding, defendants. The bill set forth the following case: \\n Johnson, Justice. In order to support a motion for an injunction, the bill should set forth a case of probable right, and a probable danger that the right would be defeated, without this special interposition of the court. It does not appear to me, that the present bill sufficiently claims such an interposition. If the State has a right to the debt in question, it may be enforced at common law, notwithstanding the judgment of the Circuit court; and there is no suggestion in the bill, though it has been suggested at the bar, that the State is likely to lose her right by the insolvency either of Spalding, the original debtor, or of Brailsford, who will become her debtor for the amount, if he receives it, when in law he ought not to receive, or retain, it. Nor does the bill state any particular confederacy, or fraud. The refusal to admit the Attorney General as a party on the record, was the act of a competent court; and it is not sufficient barely to alledge, that the defendant has not chosen to sue out a writ of error. The case might, perhaps, be made better; but as I can only know, at present, the facts which the bill alledges, and which the affidavit supports, it is my opinion, that there is not a proper foundation for issuing an injunction. \\n Iredell, Justice. I sat in the Circuit court, when the judgment was rendered in the case of Brailsford and others versus \\n\\n[2 U.S. 402, 406]\\n\\xa0\\n Spalding; but I shall give my opinion, on the present motion, detached from every previous consideration of the merits of the cause. The debt claimed by the plaintiffs below, was, likewise, claimed by the State of Georgia. The State applied to be admitted to affect her claim, but the application was rejected; nor has any writ of error been instituted upon the judgment. These facts, however, are only mentioned to introduce this remark, that the Circuit court could not, with propriety, sustain the application of Georgia; because, whenever a State is a party, the Supreme court has exclusive jurisdiction of the suit; and her right cannot be effectually supported, by a voluntary appearance, before any other tribunal of the Union. Not being a party, nor capable of resorting as a party, to the Circuit court, it is very much to be questioned whether the State could bring a writ of error on the judgment there, even if her claim appeared on the record. Every principle of law, justice, and honor, however, seem to require, that the claim of the State of Georgia should not be, indirectly, decided, or defeated, by a judgment pronounced between parties, over whom she had no control, and upon a trial, in which she was not allowed to be heard. If, indeed, the court could not devise a mode, for admitting a fair investigation and determination upon that claim, it would be useless to grant an injunction: But I think a mode may easily be prescribed, in strict conformity with the practice and principles of equity. It was in the power of the defendant in the Circuit court, to have filed a bill of interpleader, in order, for his own safety, to settle the rights of the contending parties; but neither in that form, nor by instituting a suit herself, could Georgia have derived the benefit of supporting her claim in her own way, before any other than the Supreme court. In this court, therefore, we ought now to place the State upon the same footing, as if a bill of interpleader had been regularly filed here; which can be done by sustaining the present suit; and when the parties are all before us, we may direct a proper issue to be formed, and tried at the bar. Thus, justice will be done to Georgia, and an irreparable injury may be prevented; while the adverse party, even if he ultimately succeeds, can only complain of a short delay. With this view, I think, that an injunction should be awarded to stay the money in the hands of the marshall, till this court shall make a further order on the subject. \\n Blair, Justice. The State of Georgia seems to have done all that she could to obtain a hearing. An application was made to the Circuit court, in the nature of a claim to interplead; but being refused, her alternative, under all the circumstances of the case, is an appeal to the equitable jurisdiction of the Supreme \\n\\n[2 U.S. 402, 407]\\n\\xa0\\n court. It is true, perhaps, as the counsel has suggested, that the defendant below pleaded the confiscation act of Georgia in bar to the action; but it is a sufficient answer to this argument, that the State was not a party; and no right can be defeated, in law, unless the party claiming it, has himself an opportunity to support it. If the State of Georgia was entitled to the bond, she is equally entitled to the money levied by the marshall in satisfaction of the bond, or rather of the judgment rendered upon it: And as the execution directs the marshall to pay the amount to the plaintiffs below, I can perceive no other mode of preventing a compliance, while we enquire into the right of receiving the money, than that of issuing an injunction to stay it in the hands of the officer. It appears to me to be too early, likewise, to pronounce an opinion upon the titles in collision; since it is enough, on a motion of this kind, to show a colorable title. The State of Georgia has set up her confiscation act, which certainly is a fair foundation for future judicial investigation; and that an injury may not be done, which it may be out of our power to repair, the injunction ought, I think, to issue, till we are enabled, by a full enquiry, to decide upon the whole merits of the case. \\n Wilson, Justice. I confess, that I have not been able to form an opinion which is perfectly satisfactory to my own mind, upon the points that have been discussed. If Georgia has a right to the bond, it is strictly a legal right; but to enforce a strictly legal right, the present seems, at the first blush, to be an awkward and irregular proceeding. Again: Georgia had not a right, or she had a right, to be admitted to a hearing in the Circuit court: but, in the former case, it would be no ground of complaint, that her application was rejected; for, she is bound by the law; and in the other case, she would be entitled to bring the subject before us, as a court of law; since she was refused the exercise of a legal right. It is true, that, under the Federal Constitution, an inferior tribunal cannot compel a State to appear as a party; but it is a very different proposition to say, that a State cannot, by her own consent, appear in any other court, than the Supreme court. The general rule applies among all sovereigns, who, as equals, are not amenable to courts of each other; and yet I remember an action was instututed and sustained, some years ago, in the name of Louis XVI. king of France, against Mr. Robert Morris, in the Supreme court of Pennsylvania. Under these impressions, I am disposed to think, that the State of Georgia ought rather to have sued out a writ of error, than to have asked for an injunction: But still, in the existing \\n\\n[2 U.S. 402, 408]\\n\\xa0\\n circumstances of the case, I have no objection to retain the money within the power of the court, 'till we can better satisfy ourselves both as to the remedy and the right.\\n The Judicial act expressly declares, that 'suits in equity shall not be sustained, in either of the courts of the United States, in any case where plain, adequate, and complete remedy may be had at law.' Now, if Georgia has any right to the debt in question, it is a right at law, for which, of course, the law will furnish a plain, adequate, and complete remedy. The decision of the Circuit court, in a case to which Georgia was neither party nor privy, did not, and could not, take away either the right or the remedy of the State. Nor can Spalding, the defendant below, be made liable twice, for the same debt, without his wilful laches. For, it is in his power to bring a writ of error; and then the whole merits of the claim of Georgia appearing on the record, we must decide it as a question of law, either by affirming or reversing the judgment, so as to bind us in any suit, which Georgia might institute for the same cause.\\n Besides, the State of Georgia (notwithstanding the judgment of the Circuit court) may bring an action of indebitatus assumpsit against Brailsford (who is a man of fortune), after they have received the money, upon the principle of Mofes versus McFarland, and with stronger reason; as in that case the parties, in both courts, were the same; but, in the case proposed, they would be different, and one of them has never been heard. In some form, therefore, Georgia may obtain compleat redress at law.\\n I do not, upon the whole, consider the refusal of Spalding to bring a writ of error (which he is not compellable to bring) nor any other suggestion in the bill, as a sufficient foundation for exercising the equitable jurisdiction of the court; and, consequently, I think that an injunction ought not to be awarded.\\n My first ideas were unfavorable to the motion; but many reasons have been urged, which operate forcibly to produce a change of opinion.\\n The great question turns on the property of a certain bond; whether it belongs to Brailsford, or to Georgia? It is put in suit by Brailsford; but if Georgia, by virtue of the confiscation act, is really entitled to the debt, she is entitled to the money, though the evidence of the debt happened to be in the possession of Brailsford, and though Brailsford has, by that means, obtained a judgment for the amount.\\n Then the only point to be considered is whether, under these circumstances, it is not equitable to stay the money in the \\n\\n[2 U.S. 402, 409]\\n\\xa0\\n hands of the marshall, 'till the right to it is fairly decided; and so avoid the risque of putting the true owner to a suit, for the purpose of recovering it back?\\n For my part, I think that the money should remain in the custody of the law, till the law has adjudged to whom it belongs; and, therefore, I am content, that the injunction issue.\\n This was a motion for a mandamus to be directed to the Circuit Court for the district of Pennsylvania, commanding the said court to proceed in a certain petition of Wm. Hayburn, who had applied to be put on the pension list of the United States, as an invalid pensioner.\\n The principal case arose upon the act of Congress passed the 23rd of March, 1792.\\n The Attorney General (Randolph) who made the motion for the mandamus, having premised that it was done ex officio, without an application from any particular person, but with a view to procure the execution of an act of Congress, particularly interesting to a meritorious and unfortunate class of citizens, the Court declared that they entertained great doubt upon his right, under such circumstances, and in a case of this kind, to proceed, ex officio; and directed him to state the principles on which he attempted to support the right. The Attorney General, accordingly, entered into an elaborate description of the powers and duties of his office:\\n But the Court being divided in opinion on that question, the motion, made ex officio, was not allowed.\\n The Attorney General then changed the ground of his interposition, declaring it to be at the instance, and on behalf of Hayburn, a party interested; and he entered into the merits of the case, upon the act of Congress, and the refusal of the Judges to carry it into effect.\\n The Court observed, that they would hold the motion under advisement, until the next term; but no decision was ever pronounced, as the Legislature, at an intermediate \\n\\n[2 U.S. 402, 410]\\n\\xa0\\n session; provided, in another way, for the relief of the pensioners.* \\n\\n[2 U.S. 402, 411]\\n\\xa0\\n The Circuit court for the district of Pennsylvania, (consisting of Wilson, and Blair, Justices, and Peters, District Judge) made the following representation, in a letter jointly addressed to the President of the United States, on the 18th of April, 1792.\\n The Circuit court for the district of North Carolina, (consisting of Iredell, Justice, and Sitgreaves, District Judge) made the following representation in a letter jointly addressed to the President of the United States, on the 8th of June, 1792.\\n THE Attorney-General having moved for information, relative to the system of practice by which the attorneys and counsellors of this court shall regulate themselves, and of the place in which rules in causes here depending shall be obtained, the CHIEF JUSTICE, at a subsequent day stated, that-\\n THE COURT considers the practice of the courts of King's Bench and Chancery in England, as affording outlines for the practice of this court; and that they will, from time to time, make such alterations therein, as circumstances may render necessary. \\n\\n[\\nFootnote *\\n] See the same case, post. & 3 vol. p. 1. as well on a motion to dissolve the Injunction, as on a trial of the merits, upon a seigned issue. \\n[\\nFootnote *\\n] See an act passed the 28th Feb. 1793. As the reasons assigned by the Judges, for declining to execute the first act of Congress, involve a great Constitutional question, it will not be thought improper to subjoin them, in illustration of Hayburn's case.\\n The Circuit court for the district of New York (consisting of Jay, Chief Justice, Cushing, Justice, and Duane, District Judge) proceeded on the 5th of April, 1791, to take into consideration the act of Congress entitled 'An act to provide for the settlement of the claims of widows, and orphans barred by the limitations heretofore established, and to regulate the claims to invalid pensions;' and were, thereupon, unanimously, of opinion and agreed.\\n[\\nFootnote *\\n] 'The people of the United States have vested in Congress all legislative powers 'granted in the constitution.'\\nThe email address cannot be subscribed. Please try again.\\nLearn more  about FindLaw’s newsletters, including our terms of use and privacy policy.\\n                            \\n                                This site is protected by reCAPTCHA and the Google Privacy Policy and Terms of Service apply.                            \""
      ]
     },
     "execution_count": 44,
     "metadata": {},
     "output_type": "execute_result"
    }
   ],
   "source": [
    "df.Corpus[0]"
   ]
  },
  {
   "cell_type": "code",
   "execution_count": 51,
   "metadata": {},
   "outputs": [],
   "source": [
    "df.Corpus = df.Corpus.str.replace('\\n', '')"
   ]
  },
  {
   "cell_type": "code",
   "execution_count": 54,
   "metadata": {},
   "outputs": [
    {
     "name": "stdout",
     "output_type": "stream",
     "text": [
      "<class 'pandas.core.series.Series'>\n"
     ]
    },
    {
     "data": {
      "text/plain": [
       "str"
      ]
     },
     "execution_count": 54,
     "metadata": {},
     "output_type": "execute_result"
    }
   ],
   "source": [
    "print(type(df.Corpus))\n",
    "type(df.Corpus[0])"
   ]
  },
  {
   "cell_type": "code",
   "execution_count": 64,
   "metadata": {},
   "outputs": [],
   "source": [
    "df.Corpus = df.Corpus.str.split().str.join(' ')"
   ]
  },
  {
   "cell_type": "code",
   "execution_count": 85,
   "metadata": {},
   "outputs": [
    {
     "data": {
      "text/plain": [
       "2541"
      ]
     },
     "execution_count": 85,
     "metadata": {},
     "output_type": "execute_result"
    }
   ],
   "source": [
    "len(sgd.predict(df.Corpus[0].split()))"
   ]
  },
  {
   "cell_type": "code",
   "execution_count": 79,
   "metadata": {},
   "outputs": [
    {
     "data": {
      "text/plain": [
       "\"Internet Explorer 11 is no longer supported. We recommend using Google Chrome, Firefox, or Microsoft Edge. This was a bill in equity filed by 'His Excellency Edward Telfair, Esq. governor and commander in chief in and over the state of Georgia, in behalf of the said State, complainant;' against Samuel Brailsford, Robert Wm. Powell, and John Hopton, merchants and co-partners, and James Spalding, surviving partner of Kelsall & Spalding, defendants. The bill set forth the following case: Johnson, Justice. In order to support a motion for an injunction, the bill should set forth a case of probable right, and a probable danger that the right would be defeated, without this special interposition of the court. It does not appear to me, that the present bill sufficiently claims such an interposition. If the State has a right to the debt in question, it may be enforced at common law, notwithstanding the judgment of the Circuit court; and there is no suggestion in the bill, though it has been suggested at the bar, that the State is likely to lose her right by the insolvency either of Spalding, the original debtor, or of Brailsford, who will become her debtor for the amount, if he receives it, when in law he ought not to receive, or retain, it. Nor does the bill state any particular confederacy, or fraud. The refusal to admit the Attorney General as a party on the record, was the act of a competent court; and it is not sufficient barely to alledge, that the defendant has not chosen to sue out a writ of error. The case might, perhaps, be made better; but as I can only know, at present, the facts which the bill alledges, and which the affidavit supports, it is my opinion, that there is not a proper foundation for issuing an injunction. Iredell, Justice. I sat in the Circuit court, when the judgment was rendered in the case of Brailsford and others versus [2 U.S. 402, 406] Spalding; but I shall give my opinion, on the present motion, detached from every previous consideration of the merits of the cause. The debt claimed by the plaintiffs below, was, likewise, claimed by the State of Georgia. The State applied to be admitted to affect her claim, but the application was rejected; nor has any writ of error been instituted upon the judgment. These facts, however, are only mentioned to introduce this remark, that the Circuit court could not, with propriety, sustain the application of Georgia; because, whenever a State is a party, the Supreme court has exclusive jurisdiction of the suit; and her right cannot be effectually supported, by a voluntary appearance, before any other tribunal of the Union. Not being a party, nor capable of resorting as a party, to the Circuit court, it is very much to be questioned whether the State could bring a writ of error on the judgment there, even if her claim appeared on the record. Every principle of law, justice, and honor, however, seem to require, that the claim of the State of Georgia should not be, indirectly, decided, or defeated, by a judgment pronounced between parties, over whom she had no control, and upon a trial, in which she was not allowed to be heard. If, indeed, the court could not devise a mode, for admitting a fair investigation and determination upon that claim, it would be useless to grant an injunction: But I think a mode may easily be prescribed, in strict conformity with the practice and principles of equity. It was in the power of the defendant in the Circuit court, to have filed a bill of interpleader, in order, for his own safety, to settle the rights of the contending parties; but neither in that form, nor by instituting a suit herself, could Georgia have derived the benefit of supporting her claim in her own way, before any other than the Supreme court. In this court, therefore, we ought now to place the State upon the same footing, as if a bill of interpleader had been regularly filed here; which can be done by sustaining the present suit; and when the parties are all before us, we may direct a proper issue to be formed, and tried at the bar. Thus, justice will be done to Georgia, and an irreparable injury may be prevented; while the adverse party, even if he ultimately succeeds, can only complain of a short delay. With this view, I think, that an injunction should be awarded to stay the money in the hands of the marshall, till this court shall make a further order on the subject. Blair, Justice. The State of Georgia seems to have done all that she could to obtain a hearing. An application was made to the Circuit court, in the nature of a claim to interplead; but being refused, her alternative, under all the circumstances of the case, is an appeal to the equitable jurisdiction of the Supreme [2 U.S. 402, 407] court. It is true, perhaps, as the counsel has suggested, that the defendant below pleaded the confiscation act of Georgia in bar to the action; but it is a sufficient answer to this argument, that the State was not a party; and no right can be defeated, in law, unless the party claiming it, has himself an opportunity to support it. If the State of Georgia was entitled to the bond, she is equally entitled to the money levied by the marshall in satisfaction of the bond, or rather of the judgment rendered upon it: And as the execution directs the marshall to pay the amount to the plaintiffs below, I can perceive no other mode of preventing a compliance, while we enquire into the right of receiving the money, than that of issuing an injunction to stay it in the hands of the officer. It appears to me to be too early, likewise, to pronounce an opinion upon the titles in collision; since it is enough, on a motion of this kind, to show a colorable title. The State of Georgia has set up her confiscation act, which certainly is a fair foundation for future judicial investigation; and that an injury may not be done, which it may be out of our power to repair, the injunction ought, I think, to issue, till we are enabled, by a full enquiry, to decide upon the whole merits of the case. Wilson, Justice. I confess, that I have not been able to form an opinion which is perfectly satisfactory to my own mind, upon the points that have been discussed. If Georgia has a right to the bond, it is strictly a legal right; but to enforce a strictly legal right, the present seems, at the first blush, to be an awkward and irregular proceeding. Again: Georgia had not a right, or she had a right, to be admitted to a hearing in the Circuit court: but, in the former case, it would be no ground of complaint, that her application was rejected; for, she is bound by the law; and in the other case, she would be entitled to bring the subject before us, as a court of law; since she was refused the exercise of a legal right. It is true, that, under the Federal Constitution, an inferior tribunal cannot compel a State to appear as a party; but it is a very different proposition to say, that a State cannot, by her own consent, appear in any other court, than the Supreme court. The general rule applies among all sovereigns, who, as equals, are not amenable to courts of each other; and yet I remember an action was instututed and sustained, some years ago, in the name of Louis XVI. king of France, against Mr. Robert Morris, in the Supreme court of Pennsylvania. Under these impressions, I am disposed to think, that the State of Georgia ought rather to have sued out a writ of error, than to have asked for an injunction: But still, in the existing [2 U.S. 402, 408] circumstances of the case, I have no objection to retain the money within the power of the court, 'till we can better satisfy ourselves both as to the remedy and the right. The Judicial act expressly declares, that 'suits in equity shall not be sustained, in either of the courts of the United States, in any case where plain, adequate, and complete remedy may be had at law.' Now, if Georgia has any right to the debt in question, it is a right at law, for which, of course, the law will furnish a plain, adequate, and complete remedy. The decision of the Circuit court, in a case to which Georgia was neither party nor privy, did not, and could not, take away either the right or the remedy of the State. Nor can Spalding, the defendant below, be made liable twice, for the same debt, without his wilful laches. For, it is in his power to bring a writ of error; and then the whole merits of the claim of Georgia appearing on the record, we must decide it as a question of law, either by affirming or reversing the judgment, so as to bind us in any suit, which Georgia might institute for the same cause. Besides, the State of Georgia (notwithstanding the judgment of the Circuit court) may bring an action of indebitatus assumpsit against Brailsford (who is a man of fortune), after they have received the money, upon the principle of Mofes versus McFarland, and with stronger reason; as in that case the parties, in both courts, were the same; but, in the case proposed, they would be different, and one of them has never been heard. In some form, therefore, Georgia may obtain compleat redress at law. I do not, upon the whole, consider the refusal of Spalding to bring a writ of error (which he is not compellable to bring) nor any other suggestion in the bill, as a sufficient foundation for exercising the equitable jurisdiction of the court; and, consequently, I think that an injunction ought not to be awarded. My first ideas were unfavorable to the motion; but many reasons have been urged, which operate forcibly to produce a change of opinion. The great question turns on the property of a certain bond; whether it belongs to Brailsford, or to Georgia? It is put in suit by Brailsford; but if Georgia, by virtue of the confiscation act, is really entitled to the debt, she is entitled to the money, though the evidence of the debt happened to be in the possession of Brailsford, and though Brailsford has, by that means, obtained a judgment for the amount. Then the only point to be considered is whether, under these circumstances, it is not equitable to stay the money in the [2 U.S. 402, 409] hands of the marshall, 'till the right to it is fairly decided; and so avoid the risque of putting the true owner to a suit, for the purpose of recovering it back? For my part, I think that the money should remain in the custody of the law, till the law has adjudged to whom it belongs; and, therefore, I am content, that the injunction issue. This was a motion for a mandamus to be directed to the Circuit Court for the district of Pennsylvania, commanding the said court to proceed in a certain petition of Wm. Hayburn, who had applied to be put on the pension list of the United States, as an invalid pensioner. The principal case arose upon the act of Congress passed the 23rd of March, 1792. The Attorney General (Randolph) who made the motion for the mandamus, having premised that it was done ex officio, without an application from any particular person, but with a view to procure the execution of an act of Congress, particularly interesting to a meritorious and unfortunate class of citizens, the Court declared that they entertained great doubt upon his right, under such circumstances, and in a case of this kind, to proceed, ex officio; and directed him to state the principles on which he attempted to support the right. The Attorney General, accordingly, entered into an elaborate description of the powers and duties of his office: But the Court being divided in opinion on that question, the motion, made ex officio, was not allowed. The Attorney General then changed the ground of his interposition, declaring it to be at the instance, and on behalf of Hayburn, a party interested; and he entered into the merits of the case, upon the act of Congress, and the refusal of the Judges to carry it into effect. The Court observed, that they would hold the motion under advisement, until the next term; but no decision was ever pronounced, as the Legislature, at an intermediate [2 U.S. 402, 410] session; provided, in another way, for the relief of the pensioners.* [2 U.S. 402, 411] The Circuit court for the district of Pennsylvania, (consisting of Wilson, and Blair, Justices, and Peters, District Judge) made the following representation, in a letter jointly addressed to the President of the United States, on the 18th of April, 1792. The Circuit court for the district of North Carolina, (consisting of Iredell, Justice, and Sitgreaves, District Judge) made the following representation in a letter jointly addressed to the President of the United States, on the 8th of June, 1792. THE Attorney-General having moved for information, relative to the system of practice by which the attorneys and counsellors of this court shall regulate themselves, and of the place in which rules in causes here depending shall be obtained, the CHIEF JUSTICE, at a subsequent day stated, that- THE COURT considers the practice of the courts of King's Bench and Chancery in England, as affording outlines for the practice of this court; and that they will, from time to time, make such alterations therein, as circumstances may render necessary. [Footnote *] See the same case, post. & 3 vol. p. 1. as well on a motion to dissolve the Injunction, as on a trial of the merits, upon a seigned issue. [Footnote *] See an act passed the 28th Feb. 1793. As the reasons assigned by the Judges, for declining to execute the first act of Congress, involve a great Constitutional question, it will not be thought improper to subjoin them, in illustration of Hayburn's case. The Circuit court for the district of New York (consisting of Jay, Chief Justice, Cushing, Justice, and Duane, District Judge) proceeded on the 5th of April, 1791, to take into consideration the act of Congress entitled 'An act to provide for the settlement of the claims of widows, and orphans barred by the limitations heretofore established, and to regulate the claims to invalid pensions;' and were, thereupon, unanimously, of opinion and agreed.[Footnote *] 'The people of the United States have vested in Congress all legislative powers 'granted in the constitution.'The email address cannot be subscribed. Please try again.Learn more about FindLaw’s newsletters, including our terms of use and privacy policy. This site is protected by reCAPTCHA and the Google Privacy Policy and Terms of Service apply.\""
      ]
     },
     "execution_count": 79,
     "metadata": {},
     "output_type": "execute_result"
    }
   ],
   "source": [
    "df.Corpus[0]"
   ]
  },
  {
   "cell_type": "code",
   "execution_count": 125,
   "metadata": {},
   "outputs": [],
   "source": [
    "## Building new dataframe\n",
    "final_data = {}\n",
    "final_data['Index'] = []\n",
    "final_data['Normal'] = []\n",
    "final_data['Premise'] = []\n",
    "final_data['Major Claim'] = []\n",
    "final_data['Claim'] = []"
   ]
  },
  {
   "cell_type": "code",
   "execution_count": 128,
   "metadata": {},
   "outputs": [],
   "source": [
    "from tqdm import tqdm\n",
    "i = 0\n",
    "\n",
    "for k in tqdm(range(len(df.Corpus))):\n",
    "    if isinstance(df.Corpus[k], str):      \n",
    "        snts = df.Corpus[k].split()\n",
    "        sz = len(snts)\n",
    "        predictions = sgd.predict(snts)\n",
    "\n",
    "        _ = []\n",
    "        major_claim = []\n",
    "        claim = []\n",
    "        premise = []\n",
    "\n",
    "        for j in range(sz):\n",
    "            if predictions[j] == '-':\n",
    "                _.append(snts[j])\n",
    "            elif predictions[j] == 'MajorClaim':\n",
    "                major_claim.append(snts[j])\n",
    "            elif predictions[j] == 'Claim':\n",
    "                claim.append(snts[j])\n",
    "            else:\n",
    "                premise.append(snts[j])\n",
    "\n",
    "\n",
    "        final_data['Index'].append(i)\n",
    "        final_data['Normal'].append(_)\n",
    "        final_data['Premise'].append(premise)\n",
    "        final_data['Major Claim'].append(major_claim)\n",
    "        final_data['Claim'].append(claim)\n",
    "        i += 1 "
   ]
  },
  {
   "cell_type": "code",
   "execution_count": null,
   "metadata": {},
   "outputs": [],
   "source": [
    "final_df = pd.DataFrame(final_data, columns = ['Index', 'Normal','Premise','Major Claim','Claim'])\n",
    "\n",
    "final_df.head()"
   ]
  },
  {
   "cell_type": "code",
   "execution_count": null,
   "metadata": {},
   "outputs": [],
   "source": [
    "df.to_csv('data_processed.csv', index=False, header=True) "
   ]
  }
 ],
 "metadata": {
  "kernelspec": {
   "display_name": "Python 3",
   "language": "python",
   "name": "python3"
  },
  "language_info": {
   "codemirror_mode": {
    "name": "ipython",
    "version": 3
   },
   "file_extension": ".py",
   "mimetype": "text/x-python",
   "name": "python",
   "nbconvert_exporter": "python",
   "pygments_lexer": "ipython3",
   "version": "3.7.3"
  }
 },
 "nbformat": 4,
 "nbformat_minor": 2
}
