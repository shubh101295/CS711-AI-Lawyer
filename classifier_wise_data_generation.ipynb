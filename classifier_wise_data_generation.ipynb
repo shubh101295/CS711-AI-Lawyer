{
  "nbformat": 4,
  "nbformat_minor": 0,
  "metadata": {
    "colab": {
      "name": "AI Lawyer temp2.ipynb",
      "provenance": [],
      "collapsed_sections": [],
      "authorship_tag": "ABX9TyMOSdo26g4V+9wZ8s5qXZWN"
    },
    "kernelspec": {
      "name": "python3",
      "display_name": "Python 3"
    }
  },
  "cells": [
    {
      "cell_type": "code",
      "metadata": {
        "id": "Bq1mq7t9lpeQ"
      },
      "source": [
        "import numpy as np\n",
        "import pandas as pd"
      ],
      "execution_count": 2,
      "outputs": []
    },
    {
      "cell_type": "code",
      "metadata": {
        "id": "Z6jTMGvyl9Dg",
        "outputId": "822503e0-755d-4a9a-8ebe-a15395a5f49b",
        "colab": {
          "base_uri": "https://localhost:8080/"
        }
      },
      "source": [
        "from google.colab import drive\n",
        "drive.mount('/content/drive', force_remount=True)"
      ],
      "execution_count": 4,
      "outputs": [
        {
          "output_type": "stream",
          "text": [
            "Mounted at /content/drive\n"
          ],
          "name": "stdout"
        }
      ]
    },
    {
      "cell_type": "code",
      "metadata": {
        "id": "uZy9vrPHkBvH"
      },
      "source": [
        "base_path= \"drive/My Drive/AI_LAWYER/brat-project-final/essay\" # add essay number and \".txt\" or \".ann\"\n",
        "total_essays=402"
      ],
      "execution_count": 5,
      "outputs": []
    },
    {
      "cell_type": "code",
      "metadata": {
        "id": "WDKASrCM7WaL"
      },
      "source": [
        "def getPathEnd(val):\n",
        "    if val>=100:\n",
        "        return str(val)\n",
        "    elif val>=10:\n",
        "        return \"0\"+str(val)\n",
        "    return \"00\"+str(val)\n",
        "\n",
        "def getTrainTest(val):\n",
        "    return val.split(\";\")[1][1:-1] == \"TRAIN\""
      ],
      "execution_count": 6,
      "outputs": []
    },
    {
      "cell_type": "code",
      "metadata": {
        "id": "VnAawQl6rPnc"
      },
      "source": [
        "df = pd.read_csv(\"drive/My Drive/AI_LAWYER/train-test-split.csv\")\n",
        "# df"
      ],
      "execution_count": 7,
      "outputs": []
    },
    {
      "cell_type": "code",
      "metadata": {
        "id": "GyvvAwoU9zV4"
      },
      "source": [
        "def parseSentence(para , not_words):\n",
        "    _lengths = [ len(_w) for _w in not_words ]\n",
        "    _num_stop_words = len(not_words)\n",
        "    _pos = 0\n",
        "    _para_length  = len(para)\n",
        "    _i=0\n",
        "    _sentences = []\n",
        "    while _i<_para_length:\n",
        "        _j = 0 \n",
        "        _k=0\n",
        "        while _j<_num_stop_words:\n",
        "            if _para_length > _i+_lengths[_j]:\n",
        "                if para[_i : _i+_lengths[_j]]  == not_words[_j]:\n",
        "                    _i+= _lengths[_j]\n",
        "                    _k=1\n",
        "                    break\n",
        "            _j+=1\n",
        "        # print(_i)\n",
        "        if para[_i] == '.':\n",
        "            _sentences.append(para[_pos:_i+1])\n",
        "            _pos=_i+1\n",
        "        if _k==0:\n",
        "            _i+=1\n",
        "    if _pos<_para_length:\n",
        "        _sentences.append(para[_pos:_para_length])\n",
        "    return _sentences"
      ],
      "execution_count": 8,
      "outputs": []
    },
    {
      "cell_type": "code",
      "metadata": {
        "id": "n5xFJpoV_dZr"
      },
      "source": [
        "test_data_classifier1 = []\n",
        "test_data_classifier2 = []\n",
        "train_data_classifier1 = []\n",
        "train_data_classifier2 = []"
      ],
      "execution_count": 47,
      "outputs": []
    },
    {
      "cell_type": "code",
      "metadata": {
        "id": "yckUaROiCbke",
        "outputId": "6b28bd7d-64d7-4116-cfb4-535199cbf3d5",
        "colab": {
          "base_uri": "https://localhost:8080/"
        }
      },
      "source": [
        "k=0\n",
        "for i in range(total_essays):\n",
        "    total_path = base_path + getPathEnd(i+1)\n",
        "    ann_file = open(total_path + \".ann\", 'r')\n",
        "    sentence = ann_file.read().split(\"\\n\")[-1]\n",
        "    ann_file.close()\n",
        "    if sentence!='':\n",
        "        k+=1\n",
        "print(k)\n",
        "# all '.ann' files end with a blank line "
      ],
      "execution_count": null,
      "outputs": [
        {
          "output_type": "stream",
          "text": [
            "0\n"
          ],
          "name": "stdout"
        }
      ]
    },
    {
      "cell_type": "code",
      "metadata": {
        "id": "V0zS-xovCqYh"
      },
      "source": [
        "not_words = ['Mr.', 'Mrs.', 'Ms.', 'i.e.','etc.',  'e.g.','Dr.', 'Prof.', 'Rev.', 'Capt.', 'Lt.-Col.', 'Col.']"
      ],
      "execution_count": 9,
      "outputs": []
    },
    {
      "cell_type": "code",
      "metadata": {
        "id": "0h7gZ9YFUs--",
        "outputId": "53627250-2411-4663-c935-851ab48758e3",
        "colab": {
          "base_uri": "https://localhost:8080/"
        }
      },
      "source": [
        "for essay_num in range(total_essays):\n",
        "    total_path = base_path + getPathEnd(essay_num+1)\n",
        "    ann_file = open(total_path + \".ann\", 'r')\n",
        "    sentences = ann_file.read().split(\"\\n\")[:-1]\n",
        "    ann_file.close()\n",
        "    _train_ = getTrainTest(df['ID;\"SET\"'][essay_num])\n",
        "    txt_file = open(total_path + \".txt\", 'r')\n",
        "    paras = txt_file.read().split(\"\\n\")\n",
        "    txt_file.close()\n",
        "\n",
        "    unannotated_sentences = []\n",
        "    for temp_paras in paras: \n",
        "        unannotated_sentences += parseSentence(temp_paras , not_words) \n",
        "        unannotated_sentences.append(\"\\n\")\n",
        "    unannotated_sentences.pop(-1)\n",
        "    unannotated_sentences_length = [len(s_) for s_ in unannotated_sentences]\n",
        "    num_unannotated_sentences = len(unannotated_sentences)\n",
        "\n",
        "    for i in range(len(unannotated_sentences_length)-1):\n",
        "        unannotated_sentences_length[i+1]+= unannotated_sentences_length[i]\n",
        "\n",
        "    for i in range(len(unannotated_sentences)):\n",
        "        unannotated_sentences[i] = {\"sentence\":unannotated_sentences[i] , \"has_argument\":False , \"start_boundary\":-1, \"end_boundary\":-1,\"argument\":'-', 'type':'-'}\n",
        "    \n",
        "    # print(unannotated_sentences)\n",
        "    for sentence in sentences:\n",
        "        temp_splits = sentence.split(\"\\t\")\n",
        "    \n",
        "        if temp_splits[0][0]=='T':\n",
        "            temp_splits2 = temp_splits[1].split()\n",
        "            temp_l = 0\n",
        "            temp_r = num_unannotated_sentences-1\n",
        "            if int(temp_splits2[1])<unannotated_sentences_length[0]:\n",
        "                unannotated_sentences[0][\"argument\"] =  temp_splits[2]\n",
        "                unannotated_sentences[0][\"has_argument\"] =True\n",
        "                unannotated_sentences[0][\"start_boundary\"] = temp_splits2[1]\n",
        "                unannotated_sentences[0][\"end_boundary\"] = temp_splits2[2]\n",
        "                unannotated_sentences[0][\"type\"] = temp_splits2[0]\n",
        "            j_ = 1\n",
        "            while j_ < num_unannotated_sentences:\n",
        "                if unannotated_sentences_length[j_-1]<=int(temp_splits2[1]) and unannotated_sentences_length[j_]>=int(temp_splits2[2]):\n",
        "                    unannotated_sentences[j_][\"argument\"] =  temp_splits[2]\n",
        "                    unannotated_sentences[j_][\"has_argument\"] =True\n",
        "                    unannotated_sentences[j_][\"start_boundary\"] = int(temp_splits2[1]) - unannotated_sentences_length[j_-1]\n",
        "                    unannotated_sentences[j_][\"end_boundary\"] = int(temp_splits2[2]) - unannotated_sentences_length[j_-1]\n",
        "                    unannotated_sentences[j_][\"type\"] = temp_splits2[0]\n",
        "                    break\n",
        "                j_+=1   \n",
        "\n",
        "    for sen in unannotated_sentences:\n",
        "        if len(sen[\"sentence\"])>2:\n",
        "            if _train_:\n",
        "                train_data_classifier1.append({\"essay no.\":essay_num+1,\"sentence\":sen[\"sentence\"] , \"has_argument\":sen[\"has_argument\"], \"type\":sen[\"type\"]})\n",
        "                if sen[\"has_argument\"]:\n",
        "                    train_data_classifier2.append({\"essay no.\":essay_num+1 , \"sentence\":sen[\"sentence\"] , \"argument\":sen[\"argument\"], \"type\":sen[\"type\"],\"start\":sen[\"start_boundary\"], \"end\":sen[\"end_boundary\"]})    \n",
        "            else:\n",
        "                test_data_classifier1.append({\"essay no.\":essay_num+1,\"sentence\":sen[\"sentence\"] , \"has_argument\":sen[\"has_argument\"], \"type\":sen[\"type\"]})\n",
        "                if sen[\"has_argument\"]:\n",
        "                    test_data_classifier2.append({\"essay no.\":essay_num+1 , \"sentence\":sen[\"sentence\"] , \"argument\":sen[\"argument\"], \"type\":sen[\"type\"],\"start\":sen[\"start_boundary\"], \"end\":sen[\"end_boundary\"]})    \n",
        "            \n",
        "    if (essay_num+1)%50==0:\n",
        "        print(essay_num , \" DOne\")"
      ],
      "execution_count": 48,
      "outputs": [
        {
          "output_type": "stream",
          "text": [
            "49  DOne\n",
            "99  DOne\n",
            "149  DOne\n",
            "199  DOne\n",
            "249  DOne\n",
            "299  DOne\n",
            "349  DOne\n",
            "399  DOne\n"
          ],
          "name": "stdout"
        }
      ]
    },
    {
      "cell_type": "code",
      "metadata": {
        "id": "XMgujZDOp4ZM",
        "outputId": "521effa8-6f88-4723-f774-b81f9466f8eb",
        "colab": {
          "base_uri": "https://localhost:8080/"
        }
      },
      "source": [
        "k=0\n",
        "y=0\n",
        "for i in test_data_classifier2:\n",
        "    # print(i[\"argument\"])\n",
        "    # print(i[\"sentence\"], i[\"start\"] , i[\"end\"])\n",
        "    # print()\n",
        "    if i[\"argument\"] == i[\"sentence\"][i[\"start\"]: i[\"end\"]]:\n",
        "        k+=1\n",
        "    else:\n",
        "        y+=1\n",
        "print(k , y)\n",
        "# all the boundaries of test data classifier2 ,have been correctly identfied"
      ],
      "execution_count": 51,
      "outputs": [
        {
          "output_type": "stream",
          "text": [
            "1129 0\n"
          ],
          "name": "stdout"
        }
      ]
    },
    {
      "cell_type": "code",
      "metadata": {
        "id": "1A1pssjL05DB",
        "outputId": "6a17b319-6fa8-4b2b-bfc8-b4cefdedba41",
        "colab": {
          "base_uri": "https://localhost:8080/"
        }
      },
      "source": [
        "k=0\n",
        "y=0\n",
        "for i in train_data_classifier2:\n",
        "    # print(i[\"argument\"])\n",
        "    # print(i[\"sentence\"], i[\"start\"] , i[\"end\"])\n",
        "    # print()\n",
        "    if i[\"argument\"] == i[\"sentence\"][i[\"start\"]: i[\"end\"]]:\n",
        "        k+=1\n",
        "    else:\n",
        "        y+=1\n",
        "print(k , y)\n",
        "# all the boundaries of train data classifier2 ,have been correctly identfied"
      ],
      "execution_count": 60,
      "outputs": [
        {
          "output_type": "stream",
          "text": [
            "4354 0\n"
          ],
          "name": "stdout"
        }
      ]
    },
    {
      "cell_type": "code",
      "metadata": {
        "id": "DXwk2qb-CyL5",
        "outputId": "d5927a85-75ca-4e37-db1e-38bfcfffae82",
        "colab": {
          "base_uri": "https://localhost:8080/",
          "height": 419
        }
      },
      "source": [
        "test_classifier1_df = pd.DataFrame(test_data_classifier1) \n",
        "test_classifier1_df "
      ],
      "execution_count": 54,
      "outputs": [
        {
          "output_type": "execute_result",
          "data": {
            "text/html": [
              "<div>\n",
              "<style scoped>\n",
              "    .dataframe tbody tr th:only-of-type {\n",
              "        vertical-align: middle;\n",
              "    }\n",
              "\n",
              "    .dataframe tbody tr th {\n",
              "        vertical-align: top;\n",
              "    }\n",
              "\n",
              "    .dataframe thead th {\n",
              "        text-align: right;\n",
              "    }\n",
              "</style>\n",
              "<table border=\"1\" class=\"dataframe\">\n",
              "  <thead>\n",
              "    <tr style=\"text-align: right;\">\n",
              "      <th></th>\n",
              "      <th>essay no.</th>\n",
              "      <th>sentence</th>\n",
              "      <th>has_argument</th>\n",
              "      <th>type</th>\n",
              "    </tr>\n",
              "  </thead>\n",
              "  <tbody>\n",
              "    <tr>\n",
              "      <th>0</th>\n",
              "      <td>4</td>\n",
              "      <td>International tourism is now more common than ...</td>\n",
              "      <td>False</td>\n",
              "      <td>-</td>\n",
              "    </tr>\n",
              "    <tr>\n",
              "      <th>1</th>\n",
              "      <td>4</td>\n",
              "      <td>The last 50 years have seen a significant incr...</td>\n",
              "      <td>False</td>\n",
              "      <td>-</td>\n",
              "    </tr>\n",
              "    <tr>\n",
              "      <th>2</th>\n",
              "      <td>4</td>\n",
              "      <td>While some might think the tourism bring larg...</td>\n",
              "      <td>True</td>\n",
              "      <td>Claim</td>\n",
              "    </tr>\n",
              "    <tr>\n",
              "      <th>3</th>\n",
              "      <td>4</td>\n",
              "      <td>Firstly, it is an undeniable fact that tourist...</td>\n",
              "      <td>True</td>\n",
              "      <td>Premise</td>\n",
              "    </tr>\n",
              "    <tr>\n",
              "      <th>4</th>\n",
              "      <td>4</td>\n",
              "      <td>Take Thailand for example, in the Vietnam War...</td>\n",
              "      <td>True</td>\n",
              "      <td>Premise</td>\n",
              "    </tr>\n",
              "    <tr>\n",
              "      <th>...</th>\n",
              "      <td>...</td>\n",
              "      <td>...</td>\n",
              "      <td>...</td>\n",
              "      <td>...</td>\n",
              "    </tr>\n",
              "    <tr>\n",
              "      <th>1435</th>\n",
              "      <td>398</td>\n",
              "      <td>Furthermore, it can have a negative affect on ...</td>\n",
              "      <td>True</td>\n",
              "      <td>Premise</td>\n",
              "    </tr>\n",
              "    <tr>\n",
              "      <th>1436</th>\n",
              "      <td>398</td>\n",
              "      <td>For example, a girl, who is interested in lit...</td>\n",
              "      <td>True</td>\n",
              "      <td>Premise</td>\n",
              "    </tr>\n",
              "    <tr>\n",
              "      <th>1437</th>\n",
              "      <td>398</td>\n",
              "      <td>On the other hand, universities should encoura...</td>\n",
              "      <td>True</td>\n",
              "      <td>Premise</td>\n",
              "    </tr>\n",
              "    <tr>\n",
              "      <th>1438</th>\n",
              "      <td>398</td>\n",
              "      <td>It would affect students' mental health to st...</td>\n",
              "      <td>True</td>\n",
              "      <td>Premise</td>\n",
              "    </tr>\n",
              "    <tr>\n",
              "      <th>1439</th>\n",
              "      <td>398</td>\n",
              "      <td>In conclusion, it is necessary for universitie...</td>\n",
              "      <td>True</td>\n",
              "      <td>MajorClaim</td>\n",
              "    </tr>\n",
              "  </tbody>\n",
              "</table>\n",
              "<p>1440 rows × 4 columns</p>\n",
              "</div>"
            ],
            "text/plain": [
              "      essay no.  ...        type\n",
              "0             4  ...           -\n",
              "1             4  ...           -\n",
              "2             4  ...       Claim\n",
              "3             4  ...     Premise\n",
              "4             4  ...     Premise\n",
              "...         ...  ...         ...\n",
              "1435        398  ...     Premise\n",
              "1436        398  ...     Premise\n",
              "1437        398  ...     Premise\n",
              "1438        398  ...     Premise\n",
              "1439        398  ...  MajorClaim\n",
              "\n",
              "[1440 rows x 4 columns]"
            ]
          },
          "metadata": {
            "tags": []
          },
          "execution_count": 54
        }
      ]
    },
    {
      "cell_type": "code",
      "metadata": {
        "id": "tv4_aMCfH7f2",
        "outputId": "bb072ddd-1928-4359-df5e-63ada1b351f4",
        "colab": {
          "base_uri": "https://localhost:8080/",
          "height": 419
        }
      },
      "source": [
        "train_classifier1_df = pd.DataFrame(train_data_classifier1) \n",
        "train_classifier1_df "
      ],
      "execution_count": 55,
      "outputs": [
        {
          "output_type": "execute_result",
          "data": {
            "text/html": [
              "<div>\n",
              "<style scoped>\n",
              "    .dataframe tbody tr th:only-of-type {\n",
              "        vertical-align: middle;\n",
              "    }\n",
              "\n",
              "    .dataframe tbody tr th {\n",
              "        vertical-align: top;\n",
              "    }\n",
              "\n",
              "    .dataframe thead th {\n",
              "        text-align: right;\n",
              "    }\n",
              "</style>\n",
              "<table border=\"1\" class=\"dataframe\">\n",
              "  <thead>\n",
              "    <tr style=\"text-align: right;\">\n",
              "      <th></th>\n",
              "      <th>essay no.</th>\n",
              "      <th>sentence</th>\n",
              "      <th>has_argument</th>\n",
              "      <th>type</th>\n",
              "    </tr>\n",
              "  </thead>\n",
              "  <tbody>\n",
              "    <tr>\n",
              "      <th>0</th>\n",
              "      <td>1</td>\n",
              "      <td>Should students be taught to compete or to coo...</td>\n",
              "      <td>False</td>\n",
              "      <td>-</td>\n",
              "    </tr>\n",
              "    <tr>\n",
              "      <th>1</th>\n",
              "      <td>1</td>\n",
              "      <td>It is always said that competition can effecti...</td>\n",
              "      <td>False</td>\n",
              "      <td>-</td>\n",
              "    </tr>\n",
              "    <tr>\n",
              "      <th>2</th>\n",
              "      <td>1</td>\n",
              "      <td>In order to survive in the competition, compa...</td>\n",
              "      <td>False</td>\n",
              "      <td>-</td>\n",
              "    </tr>\n",
              "    <tr>\n",
              "      <th>3</th>\n",
              "      <td>1</td>\n",
              "      <td>However, when we discuss the issue of competi...</td>\n",
              "      <td>False</td>\n",
              "      <td>-</td>\n",
              "    </tr>\n",
              "    <tr>\n",
              "      <th>4</th>\n",
              "      <td>1</td>\n",
              "      <td>From this point of view, I firmly believe tha...</td>\n",
              "      <td>True</td>\n",
              "      <td>MajorClaim</td>\n",
              "    </tr>\n",
              "    <tr>\n",
              "      <th>...</th>\n",
              "      <td>...</td>\n",
              "      <td>...</td>\n",
              "      <td>...</td>\n",
              "      <td>...</td>\n",
              "    </tr>\n",
              "    <tr>\n",
              "      <th>5645</th>\n",
              "      <td>402</td>\n",
              "      <td>Firstly, children who always playing sport li...</td>\n",
              "      <td>True</td>\n",
              "      <td>Premise</td>\n",
              "    </tr>\n",
              "    <tr>\n",
              "      <th>5646</th>\n",
              "      <td>402</td>\n",
              "      <td>It will be good for children, because indirec...</td>\n",
              "      <td>True</td>\n",
              "      <td>Premise</td>\n",
              "    </tr>\n",
              "    <tr>\n",
              "      <th>5647</th>\n",
              "      <td>402</td>\n",
              "      <td>That will make children getting lots of frien...</td>\n",
              "      <td>True</td>\n",
              "      <td>Premise</td>\n",
              "    </tr>\n",
              "    <tr>\n",
              "      <th>5648</th>\n",
              "      <td>402</td>\n",
              "      <td>Secondly, playing sport makes children gettin...</td>\n",
              "      <td>True</td>\n",
              "      <td>Premise</td>\n",
              "    </tr>\n",
              "    <tr>\n",
              "      <th>5649</th>\n",
              "      <td>402</td>\n",
              "      <td>In conclusion, both studying hard at school an...</td>\n",
              "      <td>True</td>\n",
              "      <td>MajorClaim</td>\n",
              "    </tr>\n",
              "  </tbody>\n",
              "</table>\n",
              "<p>5650 rows × 4 columns</p>\n",
              "</div>"
            ],
            "text/plain": [
              "      essay no.  ...        type\n",
              "0             1  ...           -\n",
              "1             1  ...           -\n",
              "2             1  ...           -\n",
              "3             1  ...           -\n",
              "4             1  ...  MajorClaim\n",
              "...         ...  ...         ...\n",
              "5645        402  ...     Premise\n",
              "5646        402  ...     Premise\n",
              "5647        402  ...     Premise\n",
              "5648        402  ...     Premise\n",
              "5649        402  ...  MajorClaim\n",
              "\n",
              "[5650 rows x 4 columns]"
            ]
          },
          "metadata": {
            "tags": []
          },
          "execution_count": 55
        }
      ]
    },
    {
      "cell_type": "code",
      "metadata": {
        "id": "Kj0VopzTyk_-",
        "outputId": "b3a344ad-654b-4797-aaaf-82f0fd697ad7",
        "colab": {
          "base_uri": "https://localhost:8080/",
          "height": 419
        }
      },
      "source": [
        "train_classifier2_df = pd.DataFrame(train_data_classifier2) \n",
        "train_classifier2_df "
      ],
      "execution_count": 56,
      "outputs": [
        {
          "output_type": "execute_result",
          "data": {
            "text/html": [
              "<div>\n",
              "<style scoped>\n",
              "    .dataframe tbody tr th:only-of-type {\n",
              "        vertical-align: middle;\n",
              "    }\n",
              "\n",
              "    .dataframe tbody tr th {\n",
              "        vertical-align: top;\n",
              "    }\n",
              "\n",
              "    .dataframe thead th {\n",
              "        text-align: right;\n",
              "    }\n",
              "</style>\n",
              "<table border=\"1\" class=\"dataframe\">\n",
              "  <thead>\n",
              "    <tr style=\"text-align: right;\">\n",
              "      <th></th>\n",
              "      <th>essay no.</th>\n",
              "      <th>sentence</th>\n",
              "      <th>argument</th>\n",
              "      <th>type</th>\n",
              "      <th>start</th>\n",
              "      <th>end</th>\n",
              "    </tr>\n",
              "  </thead>\n",
              "  <tbody>\n",
              "    <tr>\n",
              "      <th>0</th>\n",
              "      <td>1</td>\n",
              "      <td>From this point of view, I firmly believe tha...</td>\n",
              "      <td>we should attach more importance to cooperatio...</td>\n",
              "      <td>MajorClaim</td>\n",
              "      <td>48</td>\n",
              "      <td>120</td>\n",
              "    </tr>\n",
              "    <tr>\n",
              "      <th>1</th>\n",
              "      <td>1</td>\n",
              "      <td>First of all, through cooperation, children ca...</td>\n",
              "      <td>through cooperation, children can learn about ...</td>\n",
              "      <td>Claim</td>\n",
              "      <td>14</td>\n",
              "      <td>137</td>\n",
              "    </tr>\n",
              "    <tr>\n",
              "      <th>2</th>\n",
              "      <td>1</td>\n",
              "      <td>What we acquired from team work is not only h...</td>\n",
              "      <td>What we acquired from team work is not only ho...</td>\n",
              "      <td>Premise</td>\n",
              "      <td>1</td>\n",
              "      <td>136</td>\n",
              "    </tr>\n",
              "    <tr>\n",
              "      <th>3</th>\n",
              "      <td>1</td>\n",
              "      <td>During the process of cooperation, children c...</td>\n",
              "      <td>During the process of cooperation, children ca...</td>\n",
              "      <td>Premise</td>\n",
              "      <td>1</td>\n",
              "      <td>234</td>\n",
              "    </tr>\n",
              "    <tr>\n",
              "      <th>4</th>\n",
              "      <td>1</td>\n",
              "      <td>All of these skills help them to get on well ...</td>\n",
              "      <td>All of these skills help them to get on well w...</td>\n",
              "      <td>Premise</td>\n",
              "      <td>1</td>\n",
              "      <td>104</td>\n",
              "    </tr>\n",
              "    <tr>\n",
              "      <th>...</th>\n",
              "      <td>...</td>\n",
              "      <td>...</td>\n",
              "      <td>...</td>\n",
              "      <td>...</td>\n",
              "      <td>...</td>\n",
              "      <td>...</td>\n",
              "    </tr>\n",
              "    <tr>\n",
              "      <th>4349</th>\n",
              "      <td>402</td>\n",
              "      <td>Firstly, children who always playing sport li...</td>\n",
              "      <td>children who always playing sport like footbal...</td>\n",
              "      <td>Premise</td>\n",
              "      <td>10</td>\n",
              "      <td>122</td>\n",
              "    </tr>\n",
              "    <tr>\n",
              "      <th>4350</th>\n",
              "      <td>402</td>\n",
              "      <td>It will be good for children, because indirec...</td>\n",
              "      <td>indirectly they will learn how to socialize ea...</td>\n",
              "      <td>Premise</td>\n",
              "      <td>39</td>\n",
              "      <td>103</td>\n",
              "    </tr>\n",
              "    <tr>\n",
              "      <th>4351</th>\n",
              "      <td>402</td>\n",
              "      <td>That will make children getting lots of frien...</td>\n",
              "      <td>they can contribute positively to community</td>\n",
              "      <td>Premise</td>\n",
              "      <td>53</td>\n",
              "      <td>96</td>\n",
              "    </tr>\n",
              "    <tr>\n",
              "      <th>4352</th>\n",
              "      <td>402</td>\n",
              "      <td>Secondly, playing sport makes children gettin...</td>\n",
              "      <td>playing sport makes children getting healthy a...</td>\n",
              "      <td>Premise</td>\n",
              "      <td>11</td>\n",
              "      <td>88</td>\n",
              "    </tr>\n",
              "    <tr>\n",
              "      <th>4353</th>\n",
              "      <td>402</td>\n",
              "      <td>In conclusion, both studying hard at school an...</td>\n",
              "      <td>both studying hard at school and playing sport...</td>\n",
              "      <td>MajorClaim</td>\n",
              "      <td>15</td>\n",
              "      <td>92</td>\n",
              "    </tr>\n",
              "  </tbody>\n",
              "</table>\n",
              "<p>4354 rows × 6 columns</p>\n",
              "</div>"
            ],
            "text/plain": [
              "      essay no.                                           sentence  ... start  end\n",
              "0             1   From this point of view, I firmly believe tha...  ...    48  120\n",
              "1             1  First of all, through cooperation, children ca...  ...    14  137\n",
              "2             1   What we acquired from team work is not only h...  ...     1  136\n",
              "3             1   During the process of cooperation, children c...  ...     1  234\n",
              "4             1   All of these skills help them to get on well ...  ...     1  104\n",
              "...         ...                                                ...  ...   ...  ...\n",
              "4349        402   Firstly, children who always playing sport li...  ...    10  122\n",
              "4350        402   It will be good for children, because indirec...  ...    39  103\n",
              "4351        402   That will make children getting lots of frien...  ...    53   96\n",
              "4352        402   Secondly, playing sport makes children gettin...  ...    11   88\n",
              "4353        402  In conclusion, both studying hard at school an...  ...    15   92\n",
              "\n",
              "[4354 rows x 6 columns]"
            ]
          },
          "metadata": {
            "tags": []
          },
          "execution_count": 56
        }
      ]
    },
    {
      "cell_type": "code",
      "metadata": {
        "id": "wCSDUoUWzA-h",
        "outputId": "bd860021-29c7-42d0-b4e0-ddf5115fd031",
        "colab": {
          "base_uri": "https://localhost:8080/",
          "height": 419
        }
      },
      "source": [
        "test_classifier2_df = pd.DataFrame(test_data_classifier2) \n",
        "test_classifier2_df "
      ],
      "execution_count": 57,
      "outputs": [
        {
          "output_type": "execute_result",
          "data": {
            "text/html": [
              "<div>\n",
              "<style scoped>\n",
              "    .dataframe tbody tr th:only-of-type {\n",
              "        vertical-align: middle;\n",
              "    }\n",
              "\n",
              "    .dataframe tbody tr th {\n",
              "        vertical-align: top;\n",
              "    }\n",
              "\n",
              "    .dataframe thead th {\n",
              "        text-align: right;\n",
              "    }\n",
              "</style>\n",
              "<table border=\"1\" class=\"dataframe\">\n",
              "  <thead>\n",
              "    <tr style=\"text-align: right;\">\n",
              "      <th></th>\n",
              "      <th>essay no.</th>\n",
              "      <th>sentence</th>\n",
              "      <th>argument</th>\n",
              "      <th>type</th>\n",
              "      <th>start</th>\n",
              "      <th>end</th>\n",
              "    </tr>\n",
              "  </thead>\n",
              "  <tbody>\n",
              "    <tr>\n",
              "      <th>0</th>\n",
              "      <td>4</td>\n",
              "      <td>While some might think the tourism bring larg...</td>\n",
              "      <td>the tourism bring large profit for the destina...</td>\n",
              "      <td>Claim</td>\n",
              "      <td>24</td>\n",
              "      <td>84</td>\n",
              "    </tr>\n",
              "    <tr>\n",
              "      <th>1</th>\n",
              "      <td>4</td>\n",
              "      <td>Firstly, it is an undeniable fact that tourist...</td>\n",
              "      <td>tourists from different cultures will probably...</td>\n",
              "      <td>Premise</td>\n",
              "      <td>39</td>\n",
              "      <td>152</td>\n",
              "    </tr>\n",
              "    <tr>\n",
              "      <th>2</th>\n",
              "      <td>4</td>\n",
              "      <td>Take Thailand for example, in the Vietnam War...</td>\n",
              "      <td>Take Thailand for example, in the Vietnam War,...</td>\n",
              "      <td>Premise</td>\n",
              "      <td>1</td>\n",
              "      <td>287</td>\n",
              "    </tr>\n",
              "    <tr>\n",
              "      <th>3</th>\n",
              "      <td>4</td>\n",
              "      <td>This was due to the lack of adequate controls...</td>\n",
              "      <td>This was due to the lack of adequate controls ...</td>\n",
              "      <td>Premise</td>\n",
              "      <td>1</td>\n",
              "      <td>105</td>\n",
              "    </tr>\n",
              "    <tr>\n",
              "      <th>4</th>\n",
              "      <td>4</td>\n",
              "      <td>Therefore this proves that international tour...</td>\n",
              "      <td>international tourism can create negative impa...</td>\n",
              "      <td>Claim</td>\n",
              "      <td>28</td>\n",
              "      <td>106</td>\n",
              "    </tr>\n",
              "    <tr>\n",
              "      <th>...</th>\n",
              "      <td>...</td>\n",
              "      <td>...</td>\n",
              "      <td>...</td>\n",
              "      <td>...</td>\n",
              "      <td>...</td>\n",
              "      <td>...</td>\n",
              "    </tr>\n",
              "    <tr>\n",
              "      <th>1124</th>\n",
              "      <td>398</td>\n",
              "      <td>Furthermore, it can have a negative affect on ...</td>\n",
              "      <td>that does not conform to students' personality...</td>\n",
              "      <td>Premise</td>\n",
              "      <td>132</td>\n",
              "      <td>208</td>\n",
              "    </tr>\n",
              "    <tr>\n",
              "      <th>1125</th>\n",
              "      <td>398</td>\n",
              "      <td>For example, a girl, who is interested in lit...</td>\n",
              "      <td>this also can block the girl's future developm...</td>\n",
              "      <td>Premise</td>\n",
              "      <td>148</td>\n",
              "      <td>217</td>\n",
              "    </tr>\n",
              "    <tr>\n",
              "      <th>1126</th>\n",
              "      <td>398</td>\n",
              "      <td>On the other hand, universities should encoura...</td>\n",
              "      <td>this could avoid imbalance of gender in some s...</td>\n",
              "      <td>Premise</td>\n",
              "      <td>130</td>\n",
              "      <td>183</td>\n",
              "    </tr>\n",
              "    <tr>\n",
              "      <th>1127</th>\n",
              "      <td>398</td>\n",
              "      <td>It would affect students' mental health to st...</td>\n",
              "      <td>It would affect students' mental health to stu...</td>\n",
              "      <td>Premise</td>\n",
              "      <td>1</td>\n",
              "      <td>85</td>\n",
              "    </tr>\n",
              "    <tr>\n",
              "      <th>1128</th>\n",
              "      <td>398</td>\n",
              "      <td>In conclusion, it is necessary for universitie...</td>\n",
              "      <td>it is necessary for universities to respect th...</td>\n",
              "      <td>MajorClaim</td>\n",
              "      <td>15</td>\n",
              "      <td>215</td>\n",
              "    </tr>\n",
              "  </tbody>\n",
              "</table>\n",
              "<p>1129 rows × 6 columns</p>\n",
              "</div>"
            ],
            "text/plain": [
              "      essay no.                                           sentence  ... start  end\n",
              "0             4   While some might think the tourism bring larg...  ...    24   84\n",
              "1             4  Firstly, it is an undeniable fact that tourist...  ...    39  152\n",
              "2             4   Take Thailand for example, in the Vietnam War...  ...     1  287\n",
              "3             4   This was due to the lack of adequate controls...  ...     1  105\n",
              "4             4   Therefore this proves that international tour...  ...    28  106\n",
              "...         ...                                                ...  ...   ...  ...\n",
              "1124        398  Furthermore, it can have a negative affect on ...  ...   132  208\n",
              "1125        398   For example, a girl, who is interested in lit...  ...   148  217\n",
              "1126        398  On the other hand, universities should encoura...  ...   130  183\n",
              "1127        398   It would affect students' mental health to st...  ...     1   85\n",
              "1128        398  In conclusion, it is necessary for universitie...  ...    15  215\n",
              "\n",
              "[1129 rows x 6 columns]"
            ]
          },
          "metadata": {
            "tags": []
          },
          "execution_count": 57
        }
      ]
    },
    {
      "cell_type": "code",
      "metadata": {
        "id": "TIL0dxJUJAAl"
      },
      "source": [
        "test_data_file = open(\"drive/My Drive/AI_LAWYER/test_data_classifier1.csv\",'w')\n",
        "test_classifier1_df.to_csv(test_data_file)\n",
        "test_data_file.close()\n",
        "test_data_file = open(\"drive/My Drive/AI_LAWYER/test_data_classifier2.csv\",'w')\n",
        "test_classifier2_df.to_csv(test_data_file)\n",
        "test_data_file.close()"
      ],
      "execution_count": 58,
      "outputs": []
    },
    {
      "cell_type": "code",
      "metadata": {
        "id": "m9WIuzD-Jaiz"
      },
      "source": [
        "train_data_file = open(\"drive/My Drive/AI_LAWYER/train_data_classifier1.csv\",'w')\n",
        "train_classifier1_df.to_csv(train_data_file)\n",
        "train_data_file.close()\n",
        "\n",
        "train_data_file = open(\"drive/My Drive/AI_LAWYER/train_data_classifier2.csv\",'w')\n",
        "train_classifier2_df.to_csv(train_data_file)\n",
        "train_data_file.close()\n"
      ],
      "execution_count": 59,
      "outputs": []
    },
    {
      "cell_type": "code",
      "metadata": {
        "id": "o8xjwNjbJ20W"
      },
      "source": [
        ""
      ],
      "execution_count": null,
      "outputs": []
    }
  ]
}